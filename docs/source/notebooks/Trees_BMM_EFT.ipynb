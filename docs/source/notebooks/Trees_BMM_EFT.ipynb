{
 "cells": [
  {
   "attachments": {},
   "cell_type": "markdown",
   "metadata": {},
   "source": [
    "# Model Mixing with Bayesian Additive Regression Trees\n",
    "### Author: John Yannotty\n",
    "#### Date: 01/23/23\n"
   ]
  },
  {
   "attachments": {},
   "cell_type": "markdown",
   "metadata": {},
   "source": [
    "This notebook provides a tutorial for model mixing using Bayesian Additive Regreesion Trees (BART). This tutorial applies BART to a prototype example of Effecttive Field Theories (EFTs) presented by Honda et al. (2014). These EFTs are implemented with a pointwise error model in the SAMBA modeule.     "
   ]
  },
  {
   "cell_type": "code",
   "execution_count": 1,
   "metadata": {},
   "outputs": [],
   "source": [
    "import numpy as np\n",
    "import matplotlib.pyplot as plt\n",
    "import os\n",
    "import sys\n",
    "sys.path.append('../../../../Taweret')\n",
    "sys.path.append('../../../../SAMBA')\n",
    "\n",
    "wd = os.getcwd()\n",
    "os.chdir(wd.split(\"Taweret/\")[0]+\"Taweret\")\n",
    "wd = os.getcwd()\n",
    "wd\n",
    "#import Taweret.subpackages.SAMBA as samba\n",
    "\n",
    "#from Taweret.models import samba_models as toy_models\n",
    "\n",
    "#m1 = toy_models.loworder(2, 'uninformative')\n",
    "#m2 = toy_models.highorder(2, 'uninformative')\n",
    "#truth = toy_models.true_model()\n",
    "#exp = toy_models.exp_data()\n",
    "\n",
    "#from samba import models\n",
    "from Taweret.mix.trees import Trees\n",
    "#from Taweret.models.samba_models import *"
   ]
  },
  {
   "cell_type": "code",
   "execution_count": 25,
   "metadata": {},
   "outputs": [
    {
     "ename": "NameError",
     "evalue": "name 'models' is not defined",
     "output_type": "error",
     "traceback": [
      "\u001b[0;31m---------------------------------------------------------------------------\u001b[0m",
      "\u001b[0;31mNameError\u001b[0m                                 Traceback (most recent call last)",
      "Cell \u001b[0;32mIn[25], line 8\u001b[0m\n\u001b[1;32m      4\u001b[0m x_train \u001b[39m=\u001b[39m np\u001b[39m.\u001b[39mlinspace(\u001b[39m0.03\u001b[39m,\u001b[39m0.5\u001b[39m,\u001b[39m20\u001b[39m)\n\u001b[1;32m      5\u001b[0m x_test \u001b[39m=\u001b[39m np\u001b[39m.\u001b[39mlinspace(\u001b[39m0.03\u001b[39m,\u001b[39m0.5\u001b[39m,\u001b[39m300\u001b[39m)\n\u001b[0;32m----> 8\u001b[0m models\u001b[39m.\u001b[39mModels(\u001b[39m2\u001b[39m,\u001b[39m2\u001b[39m)\n\u001b[1;32m      9\u001b[0m y_train \u001b[39m=\u001b[39m f0\u001b[39m.\u001b[39mevaluate(x_train) \u001b[39m+\u001b[39m np\u001b[39m.\u001b[39mrandom\u001b[39m.\u001b[39mnormal(loc \u001b[39m=\u001b[39m \u001b[39m0\u001b[39m, scale \u001b[39m=\u001b[39m \u001b[39m0.005\u001b[39m, size \u001b[39m=\u001b[39m x_train\u001b[39m.\u001b[39msize())\n",
      "\u001b[0;31mNameError\u001b[0m: name 'models' is not defined"
     ]
    }
   ],
   "source": [
    "# Define the model set\n",
    "model_dict = {'model1':loworder(2,'uninformative'), 'model2':highorder(4,'uninformative')}\n",
    "f0 = true_model()\n",
    "x_train = np.linspace(0.03,0.5,20)\n",
    "x_test = np.linspace(0.03,0.5,300)\n",
    "\n",
    "\n",
    "models.Models(2,2)\n",
    "y_train = f0.evaluate(x_train) + np.random.normal(loc = 0, scale = 0.005, size = x_train.size())\n"
   ]
  },
  {
   "cell_type": "code",
   "execution_count": null,
   "metadata": {},
   "outputs": [],
   "source": [
    "# Instantiate a Trees class instance (The openbt_mixing debian package must be installed)\n",
    "# The model set is defined in model_dict (not shown)\n",
    "mix = Trees(model_dict = model_dict)\n",
    "\n",
    "# Set the priors for the various features of the model\n",
    "mix.set_prior(k=1.25,ntree=20,overallnu=5,overallsd=np.sqrt(0.1),inform_prior=True)\n",
    "mix.prior\n",
    "\n",
    "# Train the model using a set of training data \n",
    "fit = mix.train(X=x_train, y=y_train, ndpost = 10000, nadapt = 2000, nskip = 1000, adaptevery = 500, minnumbot = 2)\n",
    "\n",
    "# Get predictions across a grid of test points, x_test\n",
    "ppost, pmean, pci, pstd = mix.predict(X = x_test, ci = 0.95)\n",
    "wpost, wmean, wci, wstd = mix.predict_weights(X = x_test, ci = 0.95)\n",
    "\n",
    "# Plot results\n",
    "mix.plot_weights(0)\n",
    "mix.plot_prediction(0)\n",
    "mix.plot_sigma()"
   ]
  }
 ],
 "metadata": {
  "kernelspec": {
   "display_name": "Python 3",
   "language": "python",
   "name": "python3"
  },
  "language_info": {
   "codemirror_mode": {
    "name": "ipython",
    "version": 3
   },
   "file_extension": ".py",
   "mimetype": "text/x-python",
   "name": "python",
   "nbconvert_exporter": "python",
   "pygments_lexer": "ipython3",
   "version": "3.8.10"
  },
  "orig_nbformat": 4,
  "vscode": {
   "interpreter": {
    "hash": "916dbcbb3f70747c44a77c7bcd40155683ae19c65e1c03b4aa3499c5328201f1"
   }
  }
 },
 "nbformat": 4,
 "nbformat_minor": 2
}
