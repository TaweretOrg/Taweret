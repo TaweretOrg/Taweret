{
 "cells": [
  {
   "attachments": {},
   "cell_type": "markdown",
   "metadata": {},
   "source": [
    "# Model Mixing with Bayesian Additive Regression Trees\n",
    "### Author: John Yannotty\n",
    "#### Date: 01/23/23\n"
   ]
  },
  {
   "cell_type": "code",
   "execution_count": null,
   "metadata": {},
   "outputs": [],
   "source": [
    "import numpy as np\n",
    "import matplotlib.pyplot as plt\n",
    "from Taweret.mix.trees import Trees\n"
   ]
  },
  {
   "cell_type": "code",
   "execution_count": null,
   "metadata": {},
   "outputs": [],
   "source": [
    "model_dict = {'model1':FP(0,-2,4,1), 'model2':FP(0,2,-4,1)}\n",
    "x_train = 1\n",
    "y_train = 1\n",
    "x_test = 1"
   ]
  },
  {
   "cell_type": "code",
   "execution_count": null,
   "metadata": {},
   "outputs": [],
   "source": [
    "# Import the Trees class from Taweret\n",
    "from Taweret.mix.trees import Trees\n",
    "\n",
    "# Instantiate a Trees class instance (The openbt_mixing debian package must be installed)\n",
    "# The model set is defined in model_dict (not shown)\n",
    "mix = Trees(model_dict = model_dict)\n",
    "\n",
    "# Set the priors for the various features of the model\n",
    "mix.set_prior(k=1.25,ntree=20,overallnu=5,overallsd=np.sqrt(0.1),inform_prior=True)\n",
    "mix.prior\n",
    "\n",
    "# Train the model using a set of training data \n",
    "fit = mix.train(X=x_train, y=y_train, ndpost = 10000, nadapt = 2000, nskip = 1000, adaptevery = 500, minnumbot = 2)\n",
    "\n",
    "# Get predictions across a grid of test points, x_test\n",
    "ppost, pmean, pci, pstd = mix.predict(X = x_test, ci = 0.95)\n",
    "wpost, wmean, wci, wstd = mix.predict_weights(X = x_test, ci = 0.95)\n",
    "\n",
    "# Plot results\n",
    "mix.plot_weights(0)\n",
    "mix.plot_prediction(0)\n",
    "mix.plot_sigma()"
   ]
  }
 ],
 "metadata": {
  "kernelspec": {
   "display_name": "Python 3",
   "language": "python",
   "name": "python3"
  },
  "language_info": {
   "name": "python",
   "version": "3.8.10 (default, Nov 14 2022, 12:59:47) \n[GCC 9.4.0]"
  },
  "orig_nbformat": 4,
  "vscode": {
   "interpreter": {
    "hash": "916dbcbb3f70747c44a77c7bcd40155683ae19c65e1c03b4aa3499c5328201f1"
   }
  }
 },
 "nbformat": 4,
 "nbformat_minor": 2
}
