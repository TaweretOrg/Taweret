{
 "cells": [
  {
   "cell_type": "code",
   "execution_count": 1,
   "metadata": {},
   "outputs": [],
   "source": [
    "from bilby.core.prior import PriorDict, Uniform, Constraint\n",
    "\n",
    "priors = PriorDict()\n",
    "priors['x'] = Uniform(minimum=0, maximum=10)\n",
    "priors['y'] = Uniform(minimum=0, maximum=10)\n",
    "priors['z'] = Constraint(minimum=0, maximum=10)\n",
    "priors.update({'xx':Uniform(minimum=0, maximum=10)})"
   ]
  },
  {
   "cell_type": "code",
   "execution_count": null,
   "metadata": {},
   "outputs": [],
   "source": []
  }
 ],
 "metadata": {
  "kernelspec": {
   "display_name": "Python 3.6.13 ('parton_loss')",
   "language": "python",
   "name": "python3"
  },
  "language_info": {
   "codemirror_mode": {
    "name": "ipython",
    "version": 3
   },
   "file_extension": ".py",
   "mimetype": "text/x-python",
   "name": "python",
   "nbconvert_exporter": "python",
   "pygments_lexer": "ipython3",
   "version": "3.6.13"
  },
  "vscode": {
   "interpreter": {
    "hash": "446947fcb6af2f7738b3683f67a507f94a5e6efa94ee312863d1da6490ff098a"
   }
  }
 },
 "nbformat": 4,
 "nbformat_minor": 2
}
