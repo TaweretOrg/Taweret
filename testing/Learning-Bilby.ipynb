{
 "cells": [
  {
   "cell_type": "markdown",
   "id": "4b31a7c3-9302-48b8-8c40-cef85197a72f",
   "metadata": {},
   "source": [
    "# First time running anything in Bilby"
   ]
  },
  {
   "cell_type": "code",
   "execution_count": 1,
   "id": "e2facb99-398e-4aaa-941d-657225b32e2c",
   "metadata": {},
   "outputs": [],
   "source": [
    "import bilby\n",
    "import numpy as np"
   ]
  },
  {
   "cell_type": "code",
   "execution_count": 2,
   "id": "521d3933-38a1-409f-a32b-231045214612",
   "metadata": {},
   "outputs": [],
   "source": [
    "label = \"gaussian_2\"\n",
    "outdir = \"plots\""
   ]
  },
  {
   "cell_type": "code",
   "execution_count": 3,
   "id": "513d05f8-9c18-4024-9488-82e1f750d8bb",
   "metadata": {},
   "outputs": [],
   "source": [
    "data = np.random.normal(3, 4, 100)"
   ]
  },
  {
   "cell_type": "code",
   "execution_count": 4,
   "id": "5c69337a-a69c-44c6-87a7-98e0a45bcac4",
   "metadata": {},
   "outputs": [],
   "source": [
    "class SimpleGaussianLikelihood(bilby.Likelihood):\n",
    "    def __init__(self, data):\n",
    "        super().__init__(parameters={\"mu\": None, \"sigma\": None})\n",
    "        self.data = data\n",
    "        self.N = len(data)\n",
    "        \n",
    "    def log_likelihood(self):\n",
    "        mu = self.parameters[\"mu\"]\n",
    "        sigma = self.parameters[\"sigma\"]\n",
    "        res = self.data - mu\n",
    "        res = np.sum((res / sigma) ** 2) + self.N * np.log(2 * np.pi * sigma ** 2)\n",
    "        return -0.5 * res"
   ]
  },
  {
   "cell_type": "code",
   "execution_count": 5,
   "id": "7ae0677d-99c7-486b-b858-8df328b4c15c",
   "metadata": {},
   "outputs": [],
   "source": [
    "likelihood = SimpleGaussianLikelihood(data)\n",
    "priors = dict(\n",
    "    mu=bilby.core.prior.Uniform(0, 5, 'mu'),\n",
    "    sigma=bilby.core.prior.Uniform(0, 10, 'sigma')\n",
    ")"
   ]
  },
  {
   "cell_type": "code",
   "execution_count": 6,
   "id": "09f7ec02-1c71-4861-b379-9127d35f02fd",
   "metadata": {
    "collapsed": true,
    "jupyter": {
     "outputs_hidden": true
    },
    "tags": []
   },
   "outputs": [
    {
     "name": "stderr",
     "output_type": "stream",
     "text": [
      "14:28 bilby INFO    : Running for label 'gaussian_2', output will be saved to 'plots'\n",
      "14:28 bilby INFO    : Analysis priors:\n",
      "14:28 bilby INFO    : mu=Uniform(minimum=0, maximum=5, name='mu', latex_label='mu', unit=None, boundary=None)\n",
      "14:28 bilby INFO    : sigma=Uniform(minimum=0, maximum=10, name='sigma', latex_label='sigma', unit=None, boundary=None)\n",
      "14:28 bilby INFO    : Analysis likelihood class: <class '__main__.SimpleGaussianLikelihood'>\n",
      "14:28 bilby INFO    : Analysis likelihood noise evidence: nan\n",
      "14:28 bilby INFO    : Single likelihood evaluation took 5.760e-05 s\n",
      "14:28 bilby WARNING : Supplied argument 'nlive' not an argument of 'Ptemcee', removing.\n",
      "14:28 bilby INFO    : Using sampler Ptemcee with kwargs {'ntemps': 10, 'nwalkers': 100, 'Tmax': None, 'betas': None, 'a': 2.0, 'adaptation_lag': 10000, 'adaptation_time': 100, 'random': None, 'adapt': False, 'swap_ratios': False}\n",
      "14:28 bilby INFO    : Using convergence inputs: ConvergenceInputs(autocorr_c=5, autocorr_tol=50, autocorr_tau=1, gradient_tau=0.1, gradient_mean_log_posterior=0.1, Q_tol=1.02, safety=1, burn_in_nact=50, burn_in_fixed_discard=0, mean_logl_frac=0.01, thin_by_nact=0.5, nsamples=5000, ignore_keys_for_tau=None, min_tau=1, niterations_per_check=5)\n",
      "14:28 bilby INFO    : Setting up multiproccesing pool with 4 processes\n",
      "14:28 bilby INFO    : Generating pos0 samples\n",
      "14:28 bilby INFO    : Starting to sample\n",
      "100%|████████████████████████████████████████████| 5/5 [00:00<00:00, 36.90it/s]\n"
     ]
    },
    {
     "name": "stdout",
     "output_type": "stream",
     "text": [
      "1|0:00:00|nc:5.0e+03|a0:0.00-1.00|swp:0.38-1.00|n:nan<5000|t!nan(+nan,+nan)|q:inf|0.04ms/ev\n"
     ]
    },
    {
     "name": "stderr",
     "output_type": "stream",
     "text": [
      "100%|████████████████████████████████████████████| 5/5 [00:00<00:00, 35.80it/s]"
     ]
    },
    {
     "name": "stdout",
     "output_type": "stream",
     "text": [
      "2|0:00:00|nc:1.0e+04|a0:0.20-1.00|swp:0.30-1.00|n:nan<5000|t!nan(+nan,+nan)|q:inf|0.05ms/ev\n"
     ]
    },
    {
     "name": "stderr",
     "output_type": "stream",
     "text": [
      "\n",
      "100%|████████████████████████████████████████████| 5/5 [00:00<00:00, 36.02it/s]"
     ]
    },
    {
     "name": "stdout",
     "output_type": "stream",
     "text": [
      "3|0:00:00|nc:1.5e+04|a0:0.27-0.93|swp:0.27-1.00|n:nan<5000|t!nan(+nan,+nan)|q:inf|0.04ms/ev\n"
     ]
    },
    {
     "name": "stderr",
     "output_type": "stream",
     "text": [
      "\n",
      "100%|████████████████████████████████████████████| 5/5 [00:00<00:00, 35.34it/s]"
     ]
    },
    {
     "name": "stdout",
     "output_type": "stream",
     "text": [
      "4|0:00:00|nc:2.0e+04|a0:0.40-0.90|swp:0.26-1.00|n:nan<5000|t!nan(+nan,+nan)|q:inf|0.04ms/ev\n"
     ]
    },
    {
     "name": "stderr",
     "output_type": "stream",
     "text": [
      "\n",
      "100%|████████████████████████████████████████████| 5/5 [00:00<00:00, 34.69it/s]"
     ]
    },
    {
     "name": "stdout",
     "output_type": "stream",
     "text": [
      "5|0:00:01|nc:2.5e+04|a0:0.48-0.84|swp:0.25-1.00|n:nan<5000|t!nan(+nan,+nan)|q:inf|0.04ms/ev\n"
     ]
    },
    {
     "name": "stderr",
     "output_type": "stream",
     "text": [
      "\n",
      "100%|████████████████████████████████████████████| 5/5 [00:00<00:00, 31.26it/s]"
     ]
    },
    {
     "name": "stdout",
     "output_type": "stream",
     "text": [
      "6|0:00:01|nc:3.0e+04|a0:0.43-0.87|swp:0.24-1.00|n:nan<5000|t!nan(+nan,+nan)|q:inf|0.04ms/ev\n"
     ]
    },
    {
     "name": "stderr",
     "output_type": "stream",
     "text": [
      "\n",
      "100%|████████████████████████████████████████████| 5/5 [00:00<00:00, 36.38it/s]"
     ]
    },
    {
     "name": "stdout",
     "output_type": "stream",
     "text": [
      "7|0:00:01|nc:3.5e+04|a0:0.49-0.89|swp:0.24-1.00|n:nan<5000|t!nan(+nan,+nan)|q:inf|0.04ms/ev\n"
     ]
    },
    {
     "name": "stderr",
     "output_type": "stream",
     "text": [
      "\n",
      "100%|████████████████████████████████████████████| 5/5 [00:00<00:00, 30.75it/s]"
     ]
    },
    {
     "name": "stdout",
     "output_type": "stream",
     "text": [
      "8|0:00:01|nc:4.0e+04|a0:0.53-0.90|swp:0.24-1.00|n:nan<5000|t!nan(+nan,+nan)|q:inf|0.04ms/ev\n"
     ]
    },
    {
     "name": "stderr",
     "output_type": "stream",
     "text": [
      "\n",
      "100%|████████████████████████████████████████████| 5/5 [00:00<00:00, 32.66it/s]"
     ]
    },
    {
     "name": "stdout",
     "output_type": "stream",
     "text": [
      "9|0:00:01|nc:4.5e+04|a0:0.56-0.89|swp:0.24-1.00|n:nan<5000|t!nan(+nan,+nan)|q:inf|0.04ms/ev\n"
     ]
    },
    {
     "name": "stderr",
     "output_type": "stream",
     "text": [
      "\n",
      "100%|████████████████████████████████████████████| 5/5 [00:00<00:00, 35.46it/s]"
     ]
    },
    {
     "name": "stdout",
     "output_type": "stream",
     "text": [
      "10|0:00:01|nc:5.0e+04|a0:0.54-0.90|swp:0.24-1.00|n:nan<5000|t!nan(+nan,+nan)|q:inf|0.04ms/ev\n"
     ]
    },
    {
     "name": "stderr",
     "output_type": "stream",
     "text": [
      "\n",
      "100%|████████████████████████████████████████████| 5/5 [00:00<00:00, 33.90it/s]"
     ]
    },
    {
     "name": "stdout",
     "output_type": "stream",
     "text": [
      "11|0:00:02|nc:5.5e+04|a0:0.53-0.89|swp:0.24-1.00|n:nan<5000|t!nan(+nan,+nan)|q:inf|0.04ms/ev\n"
     ]
    },
    {
     "name": "stderr",
     "output_type": "stream",
     "text": [
      "\n",
      "100%|████████████████████████████████████████████| 5/5 [00:00<00:00, 31.04it/s]"
     ]
    },
    {
     "name": "stdout",
     "output_type": "stream",
     "text": [
      "12|0:00:02|nc:6.0e+04|a0:0.57-0.88|swp:0.24-1.00|n:nan<5000|t!nan(+nan,+nan)|q:inf|0.04ms/ev\n"
     ]
    },
    {
     "name": "stderr",
     "output_type": "stream",
     "text": [
      "\n",
      "100%|████████████████████████████████████████████| 5/5 [00:00<00:00, 37.20it/s]"
     ]
    },
    {
     "name": "stdout",
     "output_type": "stream",
     "text": [
      "13|0:00:02|nc:6.5e+04|a0:0.57-0.85|swp:0.24-1.00|n:nan<5000|t!nan(+nan,+nan)|q:inf|0.04ms/ev\n"
     ]
    },
    {
     "name": "stderr",
     "output_type": "stream",
     "text": [
      "\n",
      "100%|████████████████████████████████████████████| 5/5 [00:00<00:00, 34.43it/s]"
     ]
    },
    {
     "name": "stdout",
     "output_type": "stream",
     "text": [
      "14|0:00:02|nc:7.0e+04|a0:0.56-0.86|swp:0.24-1.00|n:nan<5000|t!nan(+nan,+nan)|q:inf|0.04ms/ev\n"
     ]
    },
    {
     "name": "stderr",
     "output_type": "stream",
     "text": [
      "\n",
      "100%|████████████████████████████████████████████| 5/5 [00:00<00:00, 31.74it/s]"
     ]
    },
    {
     "name": "stdout",
     "output_type": "stream",
     "text": [
      "15|0:00:02|nc:7.5e+04|a0:0.56-0.84|swp:0.24-1.00|n:nan<5000|t!nan(+nan,+nan)|q:inf|0.04ms/ev\n"
     ]
    },
    {
     "name": "stderr",
     "output_type": "stream",
     "text": [
      "\n",
      "100%|████████████████████████████████████████████| 5/5 [00:00<00:00, 34.25it/s]"
     ]
    },
    {
     "name": "stdout",
     "output_type": "stream",
     "text": [
      "16|0:00:03|nc:8.0e+04|a0:0.56-0.81|swp:0.24-1.00|n:nan<5000|t!nan(+nan,+nan)|q:inf|0.04ms/ev\n"
     ]
    },
    {
     "name": "stderr",
     "output_type": "stream",
     "text": [
      "\n",
      "100%|████████████████████████████████████████████| 5/5 [00:00<00:00, 33.42it/s]"
     ]
    },
    {
     "name": "stdout",
     "output_type": "stream",
     "text": [
      "17|0:00:03|nc:8.5e+04|a0:0.56-0.81|swp:0.24-1.00|n:nan<5000|t!nan(+nan,+nan)|q:inf|0.04ms/ev\n"
     ]
    },
    {
     "name": "stderr",
     "output_type": "stream",
     "text": [
      "\n",
      "100%|████████████████████████████████████████████| 5/5 [00:00<00:00, 36.78it/s]"
     ]
    },
    {
     "name": "stdout",
     "output_type": "stream",
     "text": [
      "18|0:00:03|nc:9.0e+04|a0:0.57-0.80|swp:0.24-1.00|n:nan<5000|t!nan(+nan,+nan)|q:inf|0.04ms/ev\n"
     ]
    },
    {
     "name": "stderr",
     "output_type": "stream",
     "text": [
      "\n",
      "100%|████████████████████████████████████████████| 5/5 [00:00<00:00, 37.47it/s]"
     ]
    },
    {
     "name": "stdout",
     "output_type": "stream",
     "text": [
      "19|0:00:03|nc:9.5e+04|a0:0.57-0.81|swp:0.24-1.00|n:nan<5000|t!nan(+nan,+nan)|q:inf|0.04ms/ev\n"
     ]
    },
    {
     "name": "stderr",
     "output_type": "stream",
     "text": [
      "\n",
      "100%|████████████████████████████████████████████| 5/5 [00:00<00:00, 35.04it/s]"
     ]
    },
    {
     "name": "stdout",
     "output_type": "stream",
     "text": [
      "20|0:00:03|nc:1.0e+05|a0:0.57-0.81|swp:0.24-1.00|n:nan<5000|t!nan(+nan,+nan)|q:inf|0.04ms/ev\n"
     ]
    },
    {
     "name": "stderr",
     "output_type": "stream",
     "text": [
      "\n",
      "100%|████████████████████████████████████████████| 5/5 [00:00<00:00, 35.50it/s]"
     ]
    },
    {
     "name": "stdout",
     "output_type": "stream",
     "text": [
      "21|0:00:03|nc:1.0e+05|a0:0.57-0.81|swp:0.24-1.00|n:nan<5000|t!nan(+nan,+nan)|q:inf|0.04ms/ev\n"
     ]
    },
    {
     "name": "stderr",
     "output_type": "stream",
     "text": [
      "\n",
      "100%|████████████████████████████████████████████| 5/5 [00:00<00:00, 32.21it/s]"
     ]
    },
    {
     "name": "stdout",
     "output_type": "stream",
     "text": [
      "22|0:00:04|nc:1.1e+05|a0:0.56-0.81|swp:0.24-1.00|n:nan<5000|t!nan(+nan,+nan)|q:inf|0.04ms/ev\n"
     ]
    },
    {
     "name": "stderr",
     "output_type": "stream",
     "text": [
      "\n",
      "100%|████████████████████████████████████████████| 5/5 [00:00<00:00, 36.62it/s]"
     ]
    },
    {
     "name": "stdout",
     "output_type": "stream",
     "text": [
      "23|0:00:04|nc:1.2e+05|a0:0.57-0.82|swp:0.24-1.00|n:nan<5000|t!nan(+nan,+nan)|q:inf|0.04ms/ev\n"
     ]
    },
    {
     "name": "stderr",
     "output_type": "stream",
     "text": [
      "\n",
      "100%|████████████████████████████████████████████| 5/5 [00:00<00:00, 33.79it/s]"
     ]
    },
    {
     "name": "stdout",
     "output_type": "stream",
     "text": [
      "24|0:00:04|nc:1.2e+05|a0:0.57-0.82|swp:0.24-1.00|n:nan<5000|t!nan(+nan,+nan)|q:inf|0.04ms/ev\n"
     ]
    },
    {
     "name": "stderr",
     "output_type": "stream",
     "text": [
      "\n",
      "100%|████████████████████████████████████████████| 5/5 [00:00<00:00, 37.39it/s]"
     ]
    },
    {
     "name": "stdout",
     "output_type": "stream",
     "text": [
      "25|0:00:04|nc:1.2e+05|a0:0.56-0.82|swp:0.24-1.00|n:nan<5000|t!nan(+nan,+nan)|q:inf|0.04ms/ev\n"
     ]
    },
    {
     "name": "stderr",
     "output_type": "stream",
     "text": [
      "\n",
      "100%|████████████████████████████████████████████| 5/5 [00:00<00:00, 36.29it/s]"
     ]
    },
    {
     "name": "stdout",
     "output_type": "stream",
     "text": [
      "26|0:00:04|nc:1.3e+05|a0:0.56-0.82|swp:0.24-1.00|n:nan<5000|t!nan(+nan,+nan)|q:inf|0.04ms/ev\n"
     ]
    },
    {
     "name": "stderr",
     "output_type": "stream",
     "text": [
      "\n",
      "100%|████████████████████████████████████████████| 5/5 [00:00<00:00, 42.08it/s]"
     ]
    },
    {
     "name": "stdout",
     "output_type": "stream",
     "text": [
      "27|0:00:05|nc:1.4e+05|a0:0.58-0.81|swp:0.24-1.00|n:nan<5000|t!nan(+nan,+nan)|q:inf|0.03ms/ev\n"
     ]
    },
    {
     "name": "stderr",
     "output_type": "stream",
     "text": [
      "\n",
      "100%|████████████████████████████████████████████| 5/5 [00:00<00:00, 43.75it/s]"
     ]
    },
    {
     "name": "stdout",
     "output_type": "stream",
     "text": [
      "28|0:00:05|nc:1.4e+05|a0:0.58-0.81|swp:0.24-1.00|n:nan<5000|t!nan(+nan,+nan)|q:inf|0.03ms/ev\n"
     ]
    },
    {
     "name": "stderr",
     "output_type": "stream",
     "text": [
      "\n",
      "100%|████████████████████████████████████████████| 5/5 [00:00<00:00, 39.59it/s]"
     ]
    },
    {
     "name": "stdout",
     "output_type": "stream",
     "text": [
      "29|0:00:05|nc:1.4e+05|a0:0.59-0.81|swp:0.24-1.00|n:nan<5000|t!nan(+nan,+nan)|q:inf|0.03ms/ev\n"
     ]
    },
    {
     "name": "stderr",
     "output_type": "stream",
     "text": [
      "\n",
      "100%|████████████████████████████████████████████| 5/5 [00:00<00:00, 42.79it/s]"
     ]
    },
    {
     "name": "stdout",
     "output_type": "stream",
     "text": [
      "30|0:00:05|nc:1.5e+05|a0:0.60-0.81|swp:0.24-1.00|n:nan<5000|t!nan(+nan,+nan)|q:inf|0.03ms/ev\n"
     ]
    },
    {
     "name": "stderr",
     "output_type": "stream",
     "text": [
      "\n",
      "100%|████████████████████████████████████████████| 5/5 [00:00<00:00, 42.56it/s]"
     ]
    },
    {
     "name": "stdout",
     "output_type": "stream",
     "text": [
      "31|0:00:05|nc:1.6e+05|a0:0.61-0.80|swp:0.24-1.00|n:nan<5000|t!nan(+nan,+nan)|q:inf|0.03ms/ev\n"
     ]
    },
    {
     "name": "stderr",
     "output_type": "stream",
     "text": [
      "\n",
      "100%|████████████████████████████████████████████| 5/5 [00:00<00:00, 38.73it/s]"
     ]
    },
    {
     "name": "stdout",
     "output_type": "stream",
     "text": [
      "32|0:00:05|nc:1.6e+05|a0:0.61-0.79|swp:0.24-1.00|n:nan<5000|t!nan(+nan,+nan)|q:inf|0.03ms/ev\n"
     ]
    },
    {
     "name": "stderr",
     "output_type": "stream",
     "text": [
      "\n",
      "100%|████████████████████████████████████████████| 5/5 [00:00<00:00, 30.99it/s]"
     ]
    },
    {
     "name": "stdout",
     "output_type": "stream",
     "text": [
      "33|0:00:05|nc:1.6e+05|a0:0.60-0.78|swp:0.24-1.00|n:nan<5000|t!nan(+nan,+nan)|q:inf|0.03ms/ev\n"
     ]
    },
    {
     "name": "stderr",
     "output_type": "stream",
     "text": [
      "\n",
      "100%|████████████████████████████████████████████| 5/5 [00:00<00:00, 29.61it/s]"
     ]
    },
    {
     "name": "stdout",
     "output_type": "stream",
     "text": [
      "34|0:00:06|nc:1.7e+05|a0:0.61-0.78|swp:0.24-1.00|n:nan<5000|t!nan(+nan,+nan)|q:inf|0.04ms/ev\n"
     ]
    },
    {
     "name": "stderr",
     "output_type": "stream",
     "text": [
      "\n",
      "100%|████████████████████████████████████████████| 5/5 [00:00<00:00, 41.04it/s]"
     ]
    },
    {
     "name": "stdout",
     "output_type": "stream",
     "text": [
      "35|0:00:06|nc:1.8e+05|a0:0.61-0.78|swp:0.24-1.00|n:nan<5000|t!nan(+nan,+nan)|q:inf|0.04ms/ev\n"
     ]
    },
    {
     "name": "stderr",
     "output_type": "stream",
     "text": [
      "\n",
      "100%|████████████████████████████████████████████| 5/5 [00:00<00:00, 42.93it/s]"
     ]
    },
    {
     "name": "stdout",
     "output_type": "stream",
     "text": [
      "36|0:00:06|nc:1.8e+05|a0:0.61-0.77|swp:0.24-1.00|n:nan<5000|t!nan(+nan,+nan)|q:inf|0.03ms/ev\n"
     ]
    },
    {
     "name": "stderr",
     "output_type": "stream",
     "text": [
      "\n",
      "100%|████████████████████████████████████████████| 5/5 [00:00<00:00, 39.20it/s]"
     ]
    },
    {
     "name": "stdout",
     "output_type": "stream",
     "text": [
      "37|0:00:06|nc:1.8e+05|a0:0.62-0.77|swp:0.24-1.00|n:nan<5000|t!nan(+nan,+nan)|q:inf|0.03ms/ev\n"
     ]
    },
    {
     "name": "stderr",
     "output_type": "stream",
     "text": [
      "\n",
      "100%|████████████████████████████████████████████| 5/5 [00:00<00:00, 44.04it/s]"
     ]
    },
    {
     "name": "stdout",
     "output_type": "stream",
     "text": [
      "38|0:00:06|nc:1.9e+05|a0:0.62-0.77|swp:0.24-1.00|n:nan<5000|t!nan(+nan,+nan)|q:inf|0.03ms/ev\n"
     ]
    },
    {
     "name": "stderr",
     "output_type": "stream",
     "text": [
      "\n",
      "100%|████████████████████████████████████████████| 5/5 [00:00<00:00, 42.46it/s]"
     ]
    },
    {
     "name": "stdout",
     "output_type": "stream",
     "text": [
      "39|0:00:06|nc:2.0e+05|a0:0.61-0.77|swp:0.24-1.00|n:nan<5000|t!nan(+nan,+nan)|q:inf|0.03ms/ev\n"
     ]
    },
    {
     "name": "stderr",
     "output_type": "stream",
     "text": [
      "\n",
      "100%|████████████████████████████████████████████| 5/5 [00:00<00:00, 38.48it/s]"
     ]
    },
    {
     "name": "stdout",
     "output_type": "stream",
     "text": [
      "40|0:00:07|nc:2.0e+05|a0:0.62-0.78|swp:0.24-1.00|n:nan<5000|t!nan(+nan,+nan)|q:inf|0.03ms/ev\n"
     ]
    },
    {
     "name": "stderr",
     "output_type": "stream",
     "text": [
      "\n",
      "100%|████████████████████████████████████████████| 5/5 [00:00<00:00, 43.87it/s]"
     ]
    },
    {
     "name": "stdout",
     "output_type": "stream",
     "text": [
      "41|0:00:07|nc:2.0e+05|a0:0.63-0.78|swp:0.24-1.00|n:nan<5000|t!nan(+nan,+nan)|q:inf|0.03ms/ev\n"
     ]
    },
    {
     "name": "stderr",
     "output_type": "stream",
     "text": [
      "\n",
      "100%|████████████████████████████████████████████| 5/5 [00:00<00:00, 41.79it/s]"
     ]
    },
    {
     "name": "stdout",
     "output_type": "stream",
     "text": [
      "42|0:00:07|nc:2.1e+05|a0:0.62-0.77|swp:0.24-1.00|n:nan<5000|t!nan(+nan,+nan)|q:inf|0.03ms/ev\n"
     ]
    },
    {
     "name": "stderr",
     "output_type": "stream",
     "text": [
      "\n",
      "100%|████████████████████████████████████████████| 5/5 [00:00<00:00, 39.11it/s]"
     ]
    },
    {
     "name": "stdout",
     "output_type": "stream",
     "text": [
      "43|0:00:07|nc:2.2e+05|a0:0.63-0.78|swp:0.24-1.00|n:nan<5000|t!nan(+nan,+nan)|q:inf|0.03ms/ev\n"
     ]
    },
    {
     "name": "stderr",
     "output_type": "stream",
     "text": [
      "\n",
      "100%|████████████████████████████████████████████| 5/5 [00:00<00:00, 44.22it/s]"
     ]
    },
    {
     "name": "stdout",
     "output_type": "stream",
     "text": [
      "44|0:00:07|nc:2.2e+05|a0:0.63-0.78|swp:0.24-1.00|n:nan<5000|t!nan(+nan,+nan)|q:inf|0.03ms/ev\n"
     ]
    },
    {
     "name": "stderr",
     "output_type": "stream",
     "text": [
      "\n",
      "100%|████████████████████████████████████████████| 5/5 [00:00<00:00, 39.54it/s]"
     ]
    },
    {
     "name": "stdout",
     "output_type": "stream",
     "text": [
      "45|0:00:07|nc:2.2e+05|a0:0.63-0.78|swp:0.24-1.00|n:nan<5000|t!nan(+nan,+nan)|q:inf|0.03ms/ev\n"
     ]
    },
    {
     "name": "stderr",
     "output_type": "stream",
     "text": [
      "\n",
      "100%|████████████████████████████████████████████| 5/5 [00:00<00:00, 42.71it/s]"
     ]
    },
    {
     "name": "stdout",
     "output_type": "stream",
     "text": [
      "46|0:00:07|nc:2.3e+05|a0:0.63-0.78|swp:0.24-1.00|n:nan<5000|t!nan(+nan,+nan)|q:inf|0.03ms/ev\n"
     ]
    },
    {
     "name": "stderr",
     "output_type": "stream",
     "text": [
      "\n",
      "100%|████████████████████████████████████████████| 5/5 [00:00<00:00, 41.71it/s]"
     ]
    },
    {
     "name": "stdout",
     "output_type": "stream",
     "text": [
      "47|0:00:08|nc:2.4e+05|a0:0.63-0.78|swp:0.24-1.00|n:nan<5000|t!nan(+nan,+nan)|q:inf|0.03ms/ev\n"
     ]
    },
    {
     "name": "stderr",
     "output_type": "stream",
     "text": [
      "\n",
      "100%|████████████████████████████████████████████| 5/5 [00:00<00:00, 40.62it/s]"
     ]
    },
    {
     "name": "stdout",
     "output_type": "stream",
     "text": [
      "48|0:00:08|nc:2.4e+05|a0:0.63-0.77|swp:0.25-1.00|n:nan<5000|t!nan(+nan,+nan)|q:inf|0.03ms/ev\n"
     ]
    },
    {
     "name": "stderr",
     "output_type": "stream",
     "text": [
      "\n",
      "100%|████████████████████████████████████████████| 5/5 [00:00<00:00, 43.21it/s]"
     ]
    },
    {
     "name": "stdout",
     "output_type": "stream",
     "text": [
      "49|0:00:08|nc:2.4e+05|a0:0.63-0.77|swp:0.25-1.00|n:nan<5000|t!nan(+nan,+nan)|q:inf|0.03ms/ev\n"
     ]
    },
    {
     "name": "stderr",
     "output_type": "stream",
     "text": [
      "\n",
      "100%|████████████████████████████████████████████| 5/5 [00:00<00:00, 39.57it/s]"
     ]
    },
    {
     "name": "stdout",
     "output_type": "stream",
     "text": [
      "50|0:00:08|nc:2.5e+05|a0:0.63-0.77|swp:0.25-1.00|n:nan<5000|t!nan(+nan,+nan)|q:inf|0.03ms/ev\n"
     ]
    },
    {
     "name": "stderr",
     "output_type": "stream",
     "text": [
      "\n",
      "100%|████████████████████████████████████████████| 5/5 [00:00<00:00, 41.29it/s]"
     ]
    },
    {
     "name": "stdout",
     "output_type": "stream",
     "text": [
      "51|0:00:08|nc:2.6e+05|a0:0.64-0.77|swp:0.25-1.00|n:nan<5000|t!nan(+nan,+nan)|q:inf|0.03ms/ev\n"
     ]
    },
    {
     "name": "stderr",
     "output_type": "stream",
     "text": [
      "\n",
      "100%|████████████████████████████████████████████| 5/5 [00:00<00:00, 42.70it/s]"
     ]
    },
    {
     "name": "stdout",
     "output_type": "stream",
     "text": [
      "52|0:00:08|nc:2.6e+05|a0:0.63-0.77|swp:0.25-1.00|n:nan<5000|t!nan(+nan,+nan)|q:inf|0.03ms/ev\n"
     ]
    },
    {
     "name": "stderr",
     "output_type": "stream",
     "text": [
      "\n",
      "100%|████████████████████████████████████████████| 5/5 [00:00<00:00, 37.88it/s]"
     ]
    },
    {
     "name": "stdout",
     "output_type": "stream",
     "text": [
      "53|0:00:08|nc:2.6e+05|a0:0.63-0.76|swp:0.24-1.00|n:nan<5000|t!nan(+nan,+nan)|q:inf|0.03ms/ev\n"
     ]
    },
    {
     "name": "stderr",
     "output_type": "stream",
     "text": [
      "\n",
      "100%|████████████████████████████████████████████| 5/5 [00:00<00:00, 40.64it/s]"
     ]
    },
    {
     "name": "stdout",
     "output_type": "stream",
     "text": [
      "54|0:00:09|nc:2.7e+05|a0:0.63-0.76|swp:0.24-1.00|n:nan<5000|t!nan(+nan,+nan)|q:inf|0.03ms/ev\n"
     ]
    },
    {
     "name": "stderr",
     "output_type": "stream",
     "text": [
      "\n",
      "100%|████████████████████████████████████████████| 5/5 [00:00<00:00, 43.46it/s]"
     ]
    },
    {
     "name": "stdout",
     "output_type": "stream",
     "text": [
      "55|0:00:09|nc:2.8e+05|a0:0.64-0.76|swp:0.24-1.00|n:nan<5000|t!nan(+nan,+nan)|q:inf|0.03ms/ev\n"
     ]
    },
    {
     "name": "stderr",
     "output_type": "stream",
     "text": [
      "\n",
      "100%|████████████████████████████████████████████| 5/5 [00:00<00:00, 41.03it/s]"
     ]
    },
    {
     "name": "stdout",
     "output_type": "stream",
     "text": [
      "56|0:00:09|nc:2.8e+05|a0:0.64-0.76|swp:0.24-1.00|n:nan<5000|t!nan(+nan,+nan)|q:inf|0.03ms/ev\n"
     ]
    },
    {
     "name": "stderr",
     "output_type": "stream",
     "text": [
      "\n",
      "100%|████████████████████████████████████████████| 5/5 [00:00<00:00, 42.06it/s]"
     ]
    },
    {
     "name": "stdout",
     "output_type": "stream",
     "text": [
      "57|0:00:09|nc:2.8e+05|a0:0.64-0.76|swp:0.24-1.00|n:nan<5000|t!nan(+nan,+nan)|q:inf|0.03ms/ev\n"
     ]
    },
    {
     "name": "stderr",
     "output_type": "stream",
     "text": [
      "\n",
      "100%|████████████████████████████████████████████| 5/5 [00:00<00:00, 44.96it/s]"
     ]
    },
    {
     "name": "stdout",
     "output_type": "stream",
     "text": [
      "58|0:00:09|nc:2.9e+05|a0:0.64-0.77|swp:0.24-1.00|n:nan<5000|t!nan(+nan,+nan)|q:inf|0.03ms/ev\n"
     ]
    },
    {
     "name": "stderr",
     "output_type": "stream",
     "text": [
      "\n",
      "100%|████████████████████████████████████████████| 5/5 [00:00<00:00, 41.52it/s]"
     ]
    },
    {
     "name": "stdout",
     "output_type": "stream",
     "text": [
      "59|0:00:09|nc:3.0e+05|a0:0.64-0.77|swp:0.24-1.00|n:nan<5000|t!nan(+nan,+nan)|q:inf|0.03ms/ev\n"
     ]
    },
    {
     "name": "stderr",
     "output_type": "stream",
     "text": [
      "\n",
      "100%|████████████████████████████████████████████| 5/5 [00:00<00:00, 42.30it/s]"
     ]
    },
    {
     "name": "stdout",
     "output_type": "stream",
     "text": [
      "60|0:00:10|nc:3.0e+05|a0:0.64-0.76|swp:0.24-1.00|n:nan<5000|t!nan(+nan,+nan)|q:inf|0.03ms/ev\n"
     ]
    },
    {
     "name": "stderr",
     "output_type": "stream",
     "text": [
      "\n",
      "100%|████████████████████████████████████████████| 5/5 [00:00<00:00, 41.15it/s]"
     ]
    },
    {
     "name": "stdout",
     "output_type": "stream",
     "text": [
      "61|0:00:10|nc:3.0e+05|a0:0.65-0.75|swp:0.25-1.00|n:nan<5000|t!nan(+nan,+nan)|q:inf|0.03ms/ev\n"
     ]
    },
    {
     "name": "stderr",
     "output_type": "stream",
     "text": [
      "\n",
      "100%|████████████████████████████████████████████| 5/5 [00:00<00:00, 42.63it/s]"
     ]
    },
    {
     "name": "stdout",
     "output_type": "stream",
     "text": [
      "62|0:00:10|nc:3.1e+05|a0:0.65-0.75|swp:0.25-1.00|n:nan<5000|t!nan(+nan,+nan)|q:inf|0.03ms/ev\n"
     ]
    },
    {
     "name": "stderr",
     "output_type": "stream",
     "text": [
      "\n",
      "100%|████████████████████████████████████████████| 5/5 [00:00<00:00, 39.85it/s]"
     ]
    },
    {
     "name": "stdout",
     "output_type": "stream",
     "text": [
      "63|0:00:10|nc:3.2e+05|a0:0.64-0.75|swp:0.25-1.00|n:nan<5000|t!nan(+nan,+nan)|q:inf|0.03ms/ev\n"
     ]
    },
    {
     "name": "stderr",
     "output_type": "stream",
     "text": [
      "\n",
      "100%|████████████████████████████████████████████| 5/5 [00:00<00:00, 43.65it/s]"
     ]
    },
    {
     "name": "stdout",
     "output_type": "stream",
     "text": [
      "64|0:00:10|nc:3.2e+05|a0:0.64-0.75|swp:0.25-1.00|n:nan<5000|t!nan(+nan,+nan)|q:inf|0.03ms/ev\n"
     ]
    },
    {
     "name": "stderr",
     "output_type": "stream",
     "text": [
      "\n",
      "100%|████████████████████████████████████████████| 5/5 [00:00<00:00, 40.51it/s]"
     ]
    },
    {
     "name": "stdout",
     "output_type": "stream",
     "text": [
      "65|0:00:10|nc:3.2e+05|a0:0.64-0.75|swp:0.25-1.00|n:nan<5000|t!nan(+nan,+nan)|q:inf|0.03ms/ev\n"
     ]
    },
    {
     "name": "stderr",
     "output_type": "stream",
     "text": [
      "\n",
      "100%|████████████████████████████████████████████| 5/5 [00:00<00:00, 42.14it/s]"
     ]
    },
    {
     "name": "stdout",
     "output_type": "stream",
     "text": [
      "66|0:00:10|nc:3.3e+05|a0:0.65-0.75|swp:0.25-1.00|n:nan<5000|t!nan(+nan,+nan)|q:inf|0.03ms/ev\n"
     ]
    },
    {
     "name": "stderr",
     "output_type": "stream",
     "text": [
      "\n",
      "100%|████████████████████████████████████████████| 5/5 [00:00<00:00, 39.04it/s]"
     ]
    },
    {
     "name": "stdout",
     "output_type": "stream",
     "text": [
      "67|0:00:11|nc:3.4e+05|a0:0.65-0.76|swp:0.25-1.00|n:nan<5000|t!nan(+nan,+nan)|q:inf|0.03ms/ev\n"
     ]
    },
    {
     "name": "stderr",
     "output_type": "stream",
     "text": [
      "\n",
      "100%|████████████████████████████████████████████| 5/5 [00:00<00:00, 43.20it/s]"
     ]
    },
    {
     "name": "stdout",
     "output_type": "stream",
     "text": [
      "68|0:00:11|nc:3.4e+05|a0:0.64-0.75|swp:0.24-1.00|n:nan<5000|t!nan(+nan,+nan)|q:inf|0.03ms/ev\n"
     ]
    },
    {
     "name": "stderr",
     "output_type": "stream",
     "text": [
      "\n",
      "100%|████████████████████████████████████████████| 5/5 [00:00<00:00, 42.69it/s]"
     ]
    },
    {
     "name": "stdout",
     "output_type": "stream",
     "text": [
      "69|0:00:11|nc:3.4e+05|a0:0.65-0.76|swp:0.24-1.00|n:nan<5000|t!nan(+nan,+nan)|q:inf|0.03ms/ev\n"
     ]
    },
    {
     "name": "stderr",
     "output_type": "stream",
     "text": [
      "\n",
      "100%|████████████████████████████████████████████| 5/5 [00:00<00:00, 42.59it/s]"
     ]
    },
    {
     "name": "stdout",
     "output_type": "stream",
     "text": [
      "70|0:00:11|nc:3.5e+05|a0:0.65-0.76|swp:0.24-1.00|n:nan<5000|t!nan(+nan,+nan)|q:inf|0.03ms/ev\n"
     ]
    },
    {
     "name": "stderr",
     "output_type": "stream",
     "text": [
      "\n",
      "100%|████████████████████████████████████████████| 5/5 [00:00<00:00, 42.28it/s]"
     ]
    },
    {
     "name": "stdout",
     "output_type": "stream",
     "text": [
      "71|0:00:11|nc:3.6e+05|a0:0.64-0.75|swp:0.24-1.00|n:nan<5000|t!nan(+nan,+nan)|q:inf|0.03ms/ev\n"
     ]
    },
    {
     "name": "stderr",
     "output_type": "stream",
     "text": [
      "\n",
      "100%|████████████████████████████████████████████| 5/5 [00:00<00:00, 41.12it/s]"
     ]
    },
    {
     "name": "stdout",
     "output_type": "stream",
     "text": [
      "72|0:00:11|nc:3.6e+05|a0:0.64-0.76|swp:0.24-1.00|n:nan<5000|t!nan(+nan,+nan)|q:inf|0.03ms/ev\n"
     ]
    },
    {
     "name": "stderr",
     "output_type": "stream",
     "text": [
      "\n",
      "100%|████████████████████████████████████████████| 5/5 [00:00<00:00, 39.90it/s]"
     ]
    },
    {
     "name": "stdout",
     "output_type": "stream",
     "text": [
      "73|0:00:11|nc:3.6e+05|a0:0.65-0.76|swp:0.24-1.00|n:nan<5000|t!nan(+nan,+nan)|q:inf|0.03ms/ev\n"
     ]
    },
    {
     "name": "stderr",
     "output_type": "stream",
     "text": [
      "\n",
      "100%|████████████████████████████████████████████| 5/5 [00:00<00:00, 44.24it/s]"
     ]
    },
    {
     "name": "stdout",
     "output_type": "stream",
     "text": [
      "74|0:00:12|nc:3.7e+05|a0:0.64-0.76|swp:0.24-1.00|n:nan<5000|t!nan(+nan,+nan)|q:inf|0.03ms/ev\n"
     ]
    },
    {
     "name": "stderr",
     "output_type": "stream",
     "text": [
      "\n",
      "100%|████████████████████████████████████████████| 5/5 [00:00<00:00, 41.74it/s]"
     ]
    },
    {
     "name": "stdout",
     "output_type": "stream",
     "text": [
      "75|0:00:12|nc:3.8e+05|a0:0.64-0.76|swp:0.24-1.00|n:nan<5000|t!nan(+nan,+nan)|q:inf|0.03ms/ev\n"
     ]
    },
    {
     "name": "stderr",
     "output_type": "stream",
     "text": [
      "\n",
      "100%|████████████████████████████████████████████| 5/5 [00:00<00:00, 37.01it/s]"
     ]
    },
    {
     "name": "stdout",
     "output_type": "stream",
     "text": [
      "76|0:00:12|nc:3.8e+05|a0:0.64-0.76|swp:0.24-1.00|n:nan<5000|t!nan(+nan,+nan)|q:inf|0.03ms/ev\n"
     ]
    },
    {
     "name": "stderr",
     "output_type": "stream",
     "text": [
      "\n",
      "100%|████████████████████████████████████████████| 5/5 [00:00<00:00, 43.30it/s]"
     ]
    },
    {
     "name": "stdout",
     "output_type": "stream",
     "text": [
      "77|0:00:12|nc:3.8e+05|a0:0.64-0.76|swp:0.24-1.00|n:nan<5000|t!nan(+nan,+nan)|q:inf|0.03ms/ev\n"
     ]
    },
    {
     "name": "stderr",
     "output_type": "stream",
     "text": [
      "\n",
      "100%|████████████████████████████████████████████| 5/5 [00:00<00:00, 43.00it/s]"
     ]
    },
    {
     "name": "stdout",
     "output_type": "stream",
     "text": [
      "78|0:00:12|nc:3.9e+05|a0:0.65-0.76|swp:0.24-1.00|n:nan<5000|t!nan(+nan,+nan)|q:inf|0.03ms/ev\n"
     ]
    },
    {
     "name": "stderr",
     "output_type": "stream",
     "text": [
      "\n",
      "100%|████████████████████████████████████████████| 5/5 [00:00<00:00, 41.51it/s]"
     ]
    },
    {
     "name": "stdout",
     "output_type": "stream",
     "text": [
      "79|0:00:12|nc:4.0e+05|a0:0.65-0.76|swp:0.24-1.00|n:nan<5000|t!nan(+nan,+nan)|q:inf|0.03ms/ev\n"
     ]
    },
    {
     "name": "stderr",
     "output_type": "stream",
     "text": [
      "\n",
      "100%|████████████████████████████████████████████| 5/5 [00:00<00:00, 40.66it/s]"
     ]
    },
    {
     "name": "stdout",
     "output_type": "stream",
     "text": [
      "80|0:00:12|nc:4.0e+05|a0:0.65-0.76|swp:0.24-1.00|n:nan<5000|t!nan(+nan,+nan)|q:inf|0.03ms/ev\n"
     ]
    },
    {
     "name": "stderr",
     "output_type": "stream",
     "text": [
      "\n",
      "100%|████████████████████████████████████████████| 5/5 [00:00<00:00, 41.40it/s]"
     ]
    },
    {
     "name": "stdout",
     "output_type": "stream",
     "text": [
      "81|0:00:13|nc:4.0e+05|a0:0.65-0.76|swp:0.24-1.00|n:nan<5000|t!nan(+nan,+nan)|q:inf|0.03ms/ev\n"
     ]
    },
    {
     "name": "stderr",
     "output_type": "stream",
     "text": [
      "\n",
      "100%|████████████████████████████████████████████| 5/5 [00:00<00:00, 38.43it/s]"
     ]
    },
    {
     "name": "stdout",
     "output_type": "stream",
     "text": [
      "82|0:00:13|nc:4.1e+05|a0:0.65-0.75|swp:0.24-1.00|n:nan<5000|t!nan(+nan,+nan)|q:inf|0.03ms/ev\n"
     ]
    },
    {
     "name": "stderr",
     "output_type": "stream",
     "text": [
      "\n",
      "100%|████████████████████████████████████████████| 5/5 [00:00<00:00, 40.95it/s]"
     ]
    },
    {
     "name": "stdout",
     "output_type": "stream",
     "text": [
      "83|0:00:13|nc:4.2e+05|a0:0.65-0.75|swp:0.24-1.00|n:nan<5000|t!nan(+nan,+nan)|q:inf|0.03ms/ev\n"
     ]
    },
    {
     "name": "stderr",
     "output_type": "stream",
     "text": [
      "\n",
      "100%|████████████████████████████████████████████| 5/5 [00:00<00:00, 40.77it/s]"
     ]
    },
    {
     "name": "stdout",
     "output_type": "stream",
     "text": [
      "84|0:00:13|nc:4.2e+05|a0:0.65-0.76|swp:0.24-1.00|n:nan<5000|t!nan(+nan,+nan)|q:inf|0.03ms/ev\n"
     ]
    },
    {
     "name": "stderr",
     "output_type": "stream",
     "text": [
      "\n",
      "100%|████████████████████████████████████████████| 5/5 [00:00<00:00, 40.65it/s]"
     ]
    },
    {
     "name": "stdout",
     "output_type": "stream",
     "text": [
      "85|0:00:13|nc:4.2e+05|a0:0.65-0.76|swp:0.24-1.00|n:nan<5000|t!nan(+nan,+nan)|q:inf|0.03ms/ev\n"
     ]
    },
    {
     "name": "stderr",
     "output_type": "stream",
     "text": [
      "\n",
      "100%|████████████████████████████████████████████| 5/5 [00:00<00:00, 37.72it/s]"
     ]
    },
    {
     "name": "stdout",
     "output_type": "stream",
     "text": [
      "86|0:00:13|nc:4.3e+05|a0:0.65-0.76|swp:0.24-1.00|n:nan<5000|t!nan(+nan,+nan)|q:inf|0.03ms/ev\n"
     ]
    },
    {
     "name": "stderr",
     "output_type": "stream",
     "text": [
      "\n",
      "100%|████████████████████████████████████████████| 5/5 [00:00<00:00, 40.92it/s]"
     ]
    },
    {
     "name": "stdout",
     "output_type": "stream",
     "text": [
      "87|0:00:14|nc:4.4e+05|a0:0.65-0.76|swp:0.24-1.00|n:nan<5000|t!nan(+nan,+nan)|q:inf|0.03ms/ev\n"
     ]
    },
    {
     "name": "stderr",
     "output_type": "stream",
     "text": [
      "\n",
      "100%|████████████████████████████████████████████| 5/5 [00:00<00:00, 41.90it/s]"
     ]
    },
    {
     "name": "stdout",
     "output_type": "stream",
     "text": [
      "88|0:00:14|nc:4.4e+05|a0:0.65-0.76|swp:0.24-1.00|n:nan<5000|t!nan(+nan,+nan)|q:inf|0.03ms/ev\n"
     ]
    },
    {
     "name": "stderr",
     "output_type": "stream",
     "text": [
      "\n",
      "100%|████████████████████████████████████████████| 5/5 [00:00<00:00, 40.90it/s]"
     ]
    },
    {
     "name": "stdout",
     "output_type": "stream",
     "text": [
      "89|0:00:14|nc:4.4e+05|a0:0.65-0.76|swp:0.24-1.00|n:nan<5000|t!nan(+nan,+nan)|q:inf|0.03ms/ev\n"
     ]
    },
    {
     "name": "stderr",
     "output_type": "stream",
     "text": [
      "\n",
      "100%|████████████████████████████████████████████| 5/5 [00:00<00:00, 40.42it/s]"
     ]
    },
    {
     "name": "stdout",
     "output_type": "stream",
     "text": [
      "90|0:00:14|nc:4.5e+05|a0:0.66-0.76|swp:0.24-1.00|n:nan<5000|t!nan(+nan,+nan)|q:inf|0.03ms/ev\n"
     ]
    },
    {
     "name": "stderr",
     "output_type": "stream",
     "text": [
      "\n",
      "100%|████████████████████████████████████████████| 5/5 [00:00<00:00, 41.68it/s]"
     ]
    },
    {
     "name": "stdout",
     "output_type": "stream",
     "text": [
      "91|0:00:14|nc:4.6e+05|a0:0.66-0.76|swp:0.24-1.00|n:nan<5000|t!nan(+nan,+nan)|q:inf|0.03ms/ev\n"
     ]
    },
    {
     "name": "stderr",
     "output_type": "stream",
     "text": [
      "\n",
      "100%|████████████████████████████████████████████| 5/5 [00:00<00:00, 41.88it/s]"
     ]
    },
    {
     "name": "stdout",
     "output_type": "stream",
     "text": [
      "92|0:00:14|nc:4.6e+05|a0:0.66-0.76|swp:0.24-1.00|n:nan<5000|t!nan(+nan,+nan)|q:inf|0.03ms/ev\n"
     ]
    },
    {
     "name": "stderr",
     "output_type": "stream",
     "text": [
      "\n",
      "100%|████████████████████████████████████████████| 5/5 [00:00<00:00, 39.92it/s]"
     ]
    },
    {
     "name": "stdout",
     "output_type": "stream",
     "text": [
      "93|0:00:14|nc:4.6e+05|a0:0.66-0.76|swp:0.24-1.00|n:nan<5000|t!nan(+nan,+nan)|q:inf|0.03ms/ev\n"
     ]
    },
    {
     "name": "stderr",
     "output_type": "stream",
     "text": [
      "\n",
      "100%|████████████████████████████████████████████| 5/5 [00:00<00:00, 35.55it/s]"
     ]
    },
    {
     "name": "stdout",
     "output_type": "stream",
     "text": [
      "94|0:00:15|nc:4.7e+05|a0:0.66-0.76|swp:0.24-1.00|n:nan<5000|t!nan(+nan,+nan)|q:inf|0.03ms/ev\n"
     ]
    },
    {
     "name": "stderr",
     "output_type": "stream",
     "text": [
      "\n",
      "100%|████████████████████████████████████████████| 5/5 [00:00<00:00, 41.83it/s]"
     ]
    },
    {
     "name": "stdout",
     "output_type": "stream",
     "text": [
      "95|0:00:15|nc:4.8e+05|a0:0.66-0.76|swp:0.24-1.00|n:nan<5000|t!nan(+nan,+nan)|q:inf|0.03ms/ev\n"
     ]
    },
    {
     "name": "stderr",
     "output_type": "stream",
     "text": [
      "\n",
      "100%|████████████████████████████████████████████| 5/5 [00:00<00:00, 24.04it/s]"
     ]
    },
    {
     "name": "stdout",
     "output_type": "stream",
     "text": [
      "96|0:00:15|nc:4.8e+05|a0:0.66-0.76|swp:0.24-1.00|n:nan<5000|t!nan(+nan,+nan)|q:inf|0.04ms/ev\n"
     ]
    },
    {
     "name": "stderr",
     "output_type": "stream",
     "text": [
      "\n",
      "100%|████████████████████████████████████████████| 5/5 [00:00<00:00, 41.43it/s]"
     ]
    },
    {
     "name": "stdout",
     "output_type": "stream",
     "text": [
      "97|0:00:15|nc:4.8e+05|a0:0.66-0.76|swp:0.24-1.00|n:nan<5000|t!nan(+nan,+nan)|q:inf|0.04ms/ev\n"
     ]
    },
    {
     "name": "stderr",
     "output_type": "stream",
     "text": [
      "\n",
      "100%|████████████████████████████████████████████| 5/5 [00:00<00:00, 42.64it/s]"
     ]
    },
    {
     "name": "stdout",
     "output_type": "stream",
     "text": [
      "98|0:00:15|nc:4.9e+05|a0:0.67-0.76|swp:0.24-1.00|n:nan<5000|t!nan(+nan,+nan)|q:inf|0.04ms/ev\n"
     ]
    },
    {
     "name": "stderr",
     "output_type": "stream",
     "text": [
      "\n",
      "100%|████████████████████████████████████████████| 5/5 [00:00<00:00, 43.67it/s]"
     ]
    },
    {
     "name": "stdout",
     "output_type": "stream",
     "text": [
      "99|0:00:15|nc:5.0e+05|a0:0.67-0.76|swp:0.24-1.00|n:nan<5000|t!nan(+nan,+nan)|q:inf|0.03ms/ev\n"
     ]
    },
    {
     "name": "stderr",
     "output_type": "stream",
     "text": [
      "\n",
      "100%|████████████████████████████████████████████| 5/5 [00:00<00:00, 38.62it/s]"
     ]
    },
    {
     "name": "stdout",
     "output_type": "stream",
     "text": [
      "100|0:00:16|nc:5.0e+05|a0:0.67-0.76|swp:0.24-1.00|n:nan<5000|t!nan(+nan,+nan)|q:inf|0.03ms/ev\n"
     ]
    },
    {
     "name": "stderr",
     "output_type": "stream",
     "text": [
      "\n",
      "100%|████████████████████████████████████████████| 5/5 [00:00<00:00, 42.72it/s]"
     ]
    },
    {
     "name": "stdout",
     "output_type": "stream",
     "text": [
      "101|0:00:16|nc:5.0e+05|a0:0.67-0.75|swp:0.25-1.00|n:nan<5000|t!nan(+nan,+nan)|q:inf|0.03ms/ev\n"
     ]
    },
    {
     "name": "stderr",
     "output_type": "stream",
     "text": [
      "\n",
      "100%|████████████████████████████████████████████| 5/5 [00:00<00:00, 40.95it/s]\n"
     ]
    },
    {
     "name": "stdout",
     "output_type": "stream",
     "text": [
      "102|0:00:16|nc:5.1e+05|a0:0.66-0.75|swp:0.24-1.00|n:100<5000|t!2(+nan,+0.01)|q:1.00|0.03ms/ev\n"
     ]
    },
    {
     "name": "stderr",
     "output_type": "stream",
     "text": [
      "100%|████████████████████████████████████████████| 5/5 [00:00<00:00, 39.34it/s]"
     ]
    },
    {
     "name": "stdout",
     "output_type": "stream",
     "text": [
      "103|0:00:16|nc:5.2e+05|a0:0.66-0.75|swp:0.25-1.00|n:200<5000|t!2(+nan,+0.01)|q:1.00|0.04ms/ev\n"
     ]
    },
    {
     "name": "stderr",
     "output_type": "stream",
     "text": [
      "\n",
      "100%|████████████████████████████████████████████| 5/5 [00:00<00:00, 43.46it/s]\n"
     ]
    },
    {
     "name": "stdout",
     "output_type": "stream",
     "text": [
      "104|0:00:16|nc:5.2e+05|a0:0.66-0.74|swp:0.24-1.00|n:300<5000|t!2(+nan,+0.01)|q:1.00|0.04ms/ev\n"
     ]
    },
    {
     "name": "stderr",
     "output_type": "stream",
     "text": [
      "100%|████████████████████████████████████████████| 5/5 [00:00<00:00, 39.39it/s]"
     ]
    },
    {
     "name": "stdout",
     "output_type": "stream",
     "text": [
      "105|0:00:16|nc:5.2e+05|a0:0.66-0.74|swp:0.25-1.00|n:400<5000|t!2(+nan,+0.01)|q:1.00|0.04ms/ev\n"
     ]
    },
    {
     "name": "stderr",
     "output_type": "stream",
     "text": [
      "\n",
      "100%|████████████████████████████████████████████| 5/5 [00:00<00:00, 41.84it/s]\n"
     ]
    },
    {
     "name": "stdout",
     "output_type": "stream",
     "text": [
      "106|0:00:17|nc:5.3e+05|a0:0.66-0.75|swp:0.24-1.00|n:500<5000|t!2(+nan,+0.01)|q:1.00|0.03ms/ev\n"
     ]
    },
    {
     "name": "stderr",
     "output_type": "stream",
     "text": [
      "100%|████████████████████████████████████████████| 5/5 [00:00<00:00, 42.26it/s]"
     ]
    },
    {
     "name": "stdout",
     "output_type": "stream",
     "text": [
      "107|0:00:17|nc:5.4e+05|a0:0.66-0.74|swp:0.24-1.00|n:600<5000|t!2(+nan,+0.01)|q:1.00|0.03ms/ev\n"
     ]
    },
    {
     "name": "stderr",
     "output_type": "stream",
     "text": [
      "\n",
      "100%|████████████████████████████████████████████| 5/5 [00:00<00:00, 38.75it/s]"
     ]
    },
    {
     "name": "stdout",
     "output_type": "stream",
     "text": [
      "108|0:00:17|nc:5.4e+05|a0:0.66-0.74|swp:0.24-1.00|n:700<5000|t!2(+nan,+0.01)|q:1.00|0.03ms/ev\n"
     ]
    },
    {
     "name": "stderr",
     "output_type": "stream",
     "text": [
      "\n",
      "100%|████████████████████████████████████████████| 5/5 [00:00<00:00, 40.97it/s]\n"
     ]
    },
    {
     "name": "stdout",
     "output_type": "stream",
     "text": [
      "109|0:00:17|nc:5.4e+05|a0:0.66-0.74|swp:0.24-1.00|n:800<5000|t!2(+nan,+0.01)|q:1.00|0.03ms/ev\n"
     ]
    },
    {
     "name": "stderr",
     "output_type": "stream",
     "text": [
      "100%|████████████████████████████████████████████| 5/5 [00:00<00:00, 42.44it/s]"
     ]
    },
    {
     "name": "stdout",
     "output_type": "stream",
     "text": [
      "110|0:00:17|nc:5.5e+05|a0:0.66-0.74|swp:0.24-1.00|n:900<5000|t!2(+nan,+0.01)|q:1.00|0.03ms/ev\n"
     ]
    },
    {
     "name": "stderr",
     "output_type": "stream",
     "text": [
      "\n",
      "100%|████████████████████████████████████████████| 5/5 [00:00<00:00, 43.19it/s]"
     ]
    },
    {
     "name": "stdout",
     "output_type": "stream",
     "text": [
      "111|0:00:17|nc:5.6e+05|a0:0.66-0.74|swp:0.24-1.00|n:1000<5000|t!2(+nan,+0.01)|q:1.00|0.03ms/ev\n"
     ]
    },
    {
     "name": "stderr",
     "output_type": "stream",
     "text": [
      "\n",
      "100%|████████████████████████████████████████████| 5/5 [00:00<00:00, 40.74it/s]"
     ]
    },
    {
     "name": "stdout",
     "output_type": "stream",
     "text": [
      "112|0:00:18|nc:5.6e+05|a0:0.66-0.74|swp:0.24-1.00|n:1100<5000|t!2(+nan,+0.01)|q:1.00|0.03ms/ev\n"
     ]
    },
    {
     "name": "stderr",
     "output_type": "stream",
     "text": [
      "\n",
      "100%|████████████████████████████████████████████| 5/5 [00:00<00:00, 41.61it/s]"
     ]
    },
    {
     "name": "stdout",
     "output_type": "stream",
     "text": [
      "113|0:00:18|nc:5.6e+05|a0:0.66-0.74|swp:0.24-1.00|n:1200<5000|t!2(+nan,+0.01)|q:1.00|0.03ms/ev\n"
     ]
    },
    {
     "name": "stderr",
     "output_type": "stream",
     "text": [
      "\n",
      "100%|████████████████████████████████████████████| 5/5 [00:00<00:00, 42.23it/s]"
     ]
    },
    {
     "name": "stdout",
     "output_type": "stream",
     "text": [
      "114|0:00:18|nc:5.7e+05|a0:0.66-0.75|swp:0.24-1.00|n:1300<5000|t!2(+nan,+0.01)|q:1.00|0.03ms/ev\n"
     ]
    },
    {
     "name": "stderr",
     "output_type": "stream",
     "text": [
      "\n",
      "100%|████████████████████████████████████████████| 5/5 [00:00<00:00, 37.80it/s]\n"
     ]
    },
    {
     "name": "stdout",
     "output_type": "stream",
     "text": [
      "115|0:00:18|nc:5.8e+05|a0:0.66-0.74|swp:0.24-1.00|n:1400<5000|t!2(+nan,+0.01)|q:1.00|0.03ms/ev\n"
     ]
    },
    {
     "name": "stderr",
     "output_type": "stream",
     "text": [
      "100%|████████████████████████████████████████████| 5/5 [00:00<00:00, 42.07it/s]\n"
     ]
    },
    {
     "name": "stdout",
     "output_type": "stream",
     "text": [
      "116|0:00:18|nc:5.8e+05|a0:0.66-0.74|swp:0.24-1.00|n:1500<5000|t!2(+nan,+0.01)|q:1.00|0.03ms/ev\n"
     ]
    },
    {
     "name": "stderr",
     "output_type": "stream",
     "text": [
      "100%|████████████████████████████████████████████| 5/5 [00:00<00:00, 36.08it/s]\n"
     ]
    },
    {
     "name": "stdout",
     "output_type": "stream",
     "text": [
      "117|0:00:18|nc:5.8e+05|a0:0.66-0.74|swp:0.24-1.00|n:1600<5000|t!2(+nan,+0.01)|q:1.00|0.04ms/ev\n"
     ]
    },
    {
     "name": "stderr",
     "output_type": "stream",
     "text": [
      "100%|████████████████████████████████████████████| 5/5 [00:00<00:00, 43.49it/s]\n"
     ]
    },
    {
     "name": "stdout",
     "output_type": "stream",
     "text": [
      "118|0:00:19|nc:5.9e+05|a0:0.66-0.74|swp:0.24-1.00|n:1700<5000|t!2(+nan,+0.01)|q:1.00|0.03ms/ev\n"
     ]
    },
    {
     "name": "stderr",
     "output_type": "stream",
     "text": [
      "100%|████████████████████████████████████████████| 5/5 [00:00<00:00, 41.35it/s]"
     ]
    },
    {
     "name": "stdout",
     "output_type": "stream",
     "text": [
      "119|0:00:19|nc:6.0e+05|a0:0.66-0.74|swp:0.24-1.00|n:1800<5000|t!2(+nan,+0.01)|q:1.00|0.03ms/ev\n"
     ]
    },
    {
     "name": "stderr",
     "output_type": "stream",
     "text": [
      "\n",
      "100%|████████████████████████████████████████████| 5/5 [00:00<00:00, 41.85it/s]"
     ]
    },
    {
     "name": "stdout",
     "output_type": "stream",
     "text": [
      "120|0:00:19|nc:6.0e+05|a0:0.66-0.74|swp:0.24-1.00|n:1900<5000|t!2(+nan,+0.01)|q:1.00|0.03ms/ev\n"
     ]
    },
    {
     "name": "stderr",
     "output_type": "stream",
     "text": [
      "\n",
      "100%|████████████████████████████████████████████| 5/5 [00:00<00:00, 42.64it/s]"
     ]
    },
    {
     "name": "stdout",
     "output_type": "stream",
     "text": [
      "121|0:00:19|nc:6.0e+05|a0:0.66-0.75|swp:0.24-1.00|n:2000<5000|t!2(+nan,+0.01)|q:1.00|0.03ms/ev\n"
     ]
    },
    {
     "name": "stderr",
     "output_type": "stream",
     "text": [
      "\n",
      "100%|████████████████████████████████████████████| 5/5 [00:00<00:00, 40.48it/s]"
     ]
    },
    {
     "name": "stdout",
     "output_type": "stream",
     "text": [
      "122|0:00:19|nc:6.1e+05|a0:0.66-0.75|swp:0.24-1.00|n:2100<5000|t!2(+nan,+0.01)|q:1.00|0.03ms/ev\n"
     ]
    },
    {
     "name": "stderr",
     "output_type": "stream",
     "text": [
      "\n",
      "100%|████████████████████████████████████████████| 5/5 [00:00<00:00, 41.79it/s]\n"
     ]
    },
    {
     "name": "stdout",
     "output_type": "stream",
     "text": [
      "123|0:00:19|nc:6.2e+05|a0:0.66-0.74|swp:0.24-1.00|n:2200<5000|t!2(+nan,+0.01)|q:1.00|0.03ms/ev\n"
     ]
    },
    {
     "name": "stderr",
     "output_type": "stream",
     "text": [
      "100%|████████████████████████████████████████████| 5/5 [00:00<00:00, 40.35it/s]"
     ]
    },
    {
     "name": "stdout",
     "output_type": "stream",
     "text": [
      "124|0:00:20|nc:6.2e+05|a0:0.66-0.74|swp:0.24-1.00|n:2300<5000|t!2(+nan,+0.01)|q:1.00|0.03ms/ev\n"
     ]
    },
    {
     "name": "stderr",
     "output_type": "stream",
     "text": [
      "\n",
      "100%|████████████████████████████████████████████| 5/5 [00:00<00:00, 42.54it/s]"
     ]
    },
    {
     "name": "stdout",
     "output_type": "stream",
     "text": [
      "125|0:00:20|nc:6.2e+05|a0:0.66-0.74|swp:0.24-1.00|n:2400<5000|t!2(+nan,+0.01)|q:1.00|0.03ms/ev\n"
     ]
    },
    {
     "name": "stderr",
     "output_type": "stream",
     "text": [
      "\n",
      "100%|████████████████████████████████████████████| 5/5 [00:00<00:00, 44.17it/s]"
     ]
    },
    {
     "name": "stdout",
     "output_type": "stream",
     "text": [
      "126|0:00:20|nc:6.3e+05|a0:0.66-0.74|swp:0.24-1.00|n:2500<5000|t!2(+nan,+0.01)|q:1.00|0.03ms/ev\n"
     ]
    },
    {
     "name": "stderr",
     "output_type": "stream",
     "text": [
      "\n",
      "100%|████████████████████████████████████████████| 5/5 [00:00<00:00, 41.31it/s]"
     ]
    },
    {
     "name": "stdout",
     "output_type": "stream",
     "text": [
      "127|0:00:20|nc:6.4e+05|a0:0.66-0.74|swp:0.24-1.00|n:2600<5000|t!2(+nan,+0.01)|q:1.00|0.03ms/ev\n"
     ]
    },
    {
     "name": "stderr",
     "output_type": "stream",
     "text": [
      "\n",
      "100%|████████████████████████████████████████████| 5/5 [00:00<00:00, 40.24it/s]"
     ]
    },
    {
     "name": "stdout",
     "output_type": "stream",
     "text": [
      "128|0:00:20|nc:6.4e+05|a0:0.67-0.74|swp:0.24-1.00|n:2700<5000|t!2(+nan,+0.01)|q:1.00|0.03ms/ev\n"
     ]
    },
    {
     "name": "stderr",
     "output_type": "stream",
     "text": [
      "\n",
      "100%|████████████████████████████████████████████| 5/5 [00:00<00:00, 42.36it/s]"
     ]
    },
    {
     "name": "stdout",
     "output_type": "stream",
     "text": [
      "129|0:00:20|nc:6.4e+05|a0:0.67-0.74|swp:0.24-1.00|n:2800<5000|t!2(+nan,+0.01)|q:1.00|0.03ms/ev\n"
     ]
    },
    {
     "name": "stderr",
     "output_type": "stream",
     "text": [
      "\n",
      "100%|████████████████████████████████████████████| 5/5 [00:00<00:00, 42.24it/s]"
     ]
    },
    {
     "name": "stdout",
     "output_type": "stream",
     "text": [
      "130|0:00:21|nc:6.5e+05|a0:0.67-0.74|swp:0.24-1.00|n:2900<5000|t!2(+nan,+0.01)|q:1.00|0.03ms/ev\n"
     ]
    },
    {
     "name": "stderr",
     "output_type": "stream",
     "text": [
      "\n",
      "100%|████████████████████████████████████████████| 5/5 [00:00<00:00, 41.47it/s]"
     ]
    },
    {
     "name": "stdout",
     "output_type": "stream",
     "text": [
      "131|0:00:21|nc:6.6e+05|a0:0.67-0.74|swp:0.24-1.00|n:3000<5000|t!2(+nan,+0.01)|q:1.00|0.03ms/ev\n"
     ]
    },
    {
     "name": "stderr",
     "output_type": "stream",
     "text": [
      "\n",
      "100%|████████████████████████████████████████████| 5/5 [00:00<00:00, 39.98it/s]"
     ]
    },
    {
     "name": "stdout",
     "output_type": "stream",
     "text": [
      "132|0:00:21|nc:6.6e+05|a0:0.67-0.74|swp:0.24-1.00|n:3100<5000|t!2(+nan,+0.01)|q:1.00|0.03ms/ev\n"
     ]
    },
    {
     "name": "stderr",
     "output_type": "stream",
     "text": [
      "\n",
      "100%|████████████████████████████████████████████| 5/5 [00:00<00:00, 43.31it/s]\n"
     ]
    },
    {
     "name": "stdout",
     "output_type": "stream",
     "text": [
      "133|0:00:21|nc:6.6e+05|a0:0.66-0.74|swp:0.24-1.00|n:3200<5000|t!2(+nan,+0.01)|q:1.00|0.03ms/ev\n"
     ]
    },
    {
     "name": "stderr",
     "output_type": "stream",
     "text": [
      "100%|████████████████████████████████████████████| 5/5 [00:00<00:00, 39.64it/s]\n"
     ]
    },
    {
     "name": "stdout",
     "output_type": "stream",
     "text": [
      "134|0:00:21|nc:6.7e+05|a0:0.66-0.74|swp:0.24-1.00|n:3300<5000|t!2(+nan,+0.01)|q:1.00|0.03ms/ev\n"
     ]
    },
    {
     "name": "stderr",
     "output_type": "stream",
     "text": [
      "100%|████████████████████████████████████████████| 5/5 [00:00<00:00, 43.09it/s]"
     ]
    },
    {
     "name": "stdout",
     "output_type": "stream",
     "text": [
      "135|0:00:22|nc:6.8e+05|a0:0.67-0.74|swp:0.24-1.00|n:3400<5000|t!2(+nan,+0.01)|q:1.00|0.03ms/ev\n"
     ]
    },
    {
     "name": "stderr",
     "output_type": "stream",
     "text": [
      "\n",
      "100%|████████████████████████████████████████████| 5/5 [00:00<00:00, 42.87it/s]"
     ]
    },
    {
     "name": "stdout",
     "output_type": "stream",
     "text": [
      "136|0:00:22|nc:6.8e+05|a0:0.67-0.74|swp:0.24-1.00|n:3500<5000|t!2(+nan,+0.01)|q:1.00|0.03ms/ev\n"
     ]
    },
    {
     "name": "stderr",
     "output_type": "stream",
     "text": [
      "\n",
      "100%|████████████████████████████████████████████| 5/5 [00:00<00:00, 36.92it/s]\n"
     ]
    },
    {
     "name": "stdout",
     "output_type": "stream",
     "text": [
      "137|0:00:22|nc:6.8e+05|a0:0.67-0.74|swp:0.24-1.00|n:3600<5000|t!2(+nan,+0.01)|q:1.00|0.03ms/ev\n"
     ]
    },
    {
     "name": "stderr",
     "output_type": "stream",
     "text": [
      "100%|████████████████████████████████████████████| 5/5 [00:00<00:00, 43.10it/s]\n"
     ]
    },
    {
     "name": "stdout",
     "output_type": "stream",
     "text": [
      "138|0:00:22|nc:6.9e+05|a0:0.67-0.74|swp:0.24-1.00|n:3700<5000|t!2(+nan,+0.01)|q:1.00|0.03ms/ev\n"
     ]
    },
    {
     "name": "stderr",
     "output_type": "stream",
     "text": [
      "100%|████████████████████████████████████████████| 5/5 [00:00<00:00, 40.60it/s]"
     ]
    },
    {
     "name": "stdout",
     "output_type": "stream",
     "text": [
      "139|0:00:22|nc:7.0e+05|a0:0.66-0.74|swp:0.24-1.00|n:3800<5000|t!2(+nan,+0.01)|q:1.00|0.03ms/ev\n"
     ]
    },
    {
     "name": "stderr",
     "output_type": "stream",
     "text": [
      "\n",
      "100%|████████████████████████████████████████████| 5/5 [00:00<00:00, 40.40it/s]"
     ]
    },
    {
     "name": "stdout",
     "output_type": "stream",
     "text": [
      "140|0:00:22|nc:7.0e+05|a0:0.66-0.74|swp:0.24-1.00|n:3900<5000|t!2(+nan,+0.01)|q:1.00|0.03ms/ev\n"
     ]
    },
    {
     "name": "stderr",
     "output_type": "stream",
     "text": [
      "\n",
      "100%|████████████████████████████████████████████| 5/5 [00:00<00:00, 44.51it/s]"
     ]
    },
    {
     "name": "stdout",
     "output_type": "stream",
     "text": [
      "141|0:00:23|nc:7.0e+05|a0:0.67-0.74|swp:0.24-1.00|n:4000<5000|t!2(+nan,+0.01)|q:1.00|0.03ms/ev\n"
     ]
    },
    {
     "name": "stderr",
     "output_type": "stream",
     "text": [
      "\n",
      "100%|████████████████████████████████████████████| 5/5 [00:00<00:00, 43.37it/s]"
     ]
    },
    {
     "name": "stdout",
     "output_type": "stream",
     "text": [
      "142|0:00:23|nc:7.1e+05|a0:0.67-0.74|swp:0.24-1.00|n:4100<5000|t!2(+nan,+0.01)|q:1.00|0.03ms/ev\n"
     ]
    },
    {
     "name": "stderr",
     "output_type": "stream",
     "text": [
      "\n",
      "100%|████████████████████████████████████████████| 5/5 [00:00<00:00, 45.40it/s]"
     ]
    },
    {
     "name": "stdout",
     "output_type": "stream",
     "text": [
      "143|0:00:23|nc:7.2e+05|a0:0.67-0.74|swp:0.24-1.00|n:4200<5000|t!2(+nan,+0.01)|q:1.00|0.03ms/ev\n"
     ]
    },
    {
     "name": "stderr",
     "output_type": "stream",
     "text": [
      "\n",
      "100%|████████████████████████████████████████████| 5/5 [00:00<00:00, 39.67it/s]"
     ]
    },
    {
     "name": "stdout",
     "output_type": "stream",
     "text": [
      "144|0:00:23|nc:7.2e+05|a0:0.66-0.74|swp:0.24-1.00|n:4300<5000|t!2(+nan,+0.01)|q:1.00|0.03ms/ev\n"
     ]
    },
    {
     "name": "stderr",
     "output_type": "stream",
     "text": [
      "\n",
      "100%|████████████████████████████████████████████| 5/5 [00:00<00:00, 41.78it/s]"
     ]
    },
    {
     "name": "stdout",
     "output_type": "stream",
     "text": [
      "145|0:00:23|nc:7.2e+05|a0:0.66-0.73|swp:0.24-1.00|n:4400<5000|t!2(+nan,+0.01)|q:1.00|0.03ms/ev\n"
     ]
    },
    {
     "name": "stderr",
     "output_type": "stream",
     "text": [
      "\n",
      "100%|████████████████████████████████████████████| 5/5 [00:00<00:00, 40.15it/s]"
     ]
    },
    {
     "name": "stdout",
     "output_type": "stream",
     "text": [
      "146|0:00:23|nc:7.3e+05|a0:0.66-0.73|swp:0.24-1.00|n:4500<5000|t!2(+nan,+0.01)|q:1.00|0.03ms/ev\n"
     ]
    },
    {
     "name": "stderr",
     "output_type": "stream",
     "text": [
      "\n",
      "100%|████████████████████████████████████████████| 5/5 [00:00<00:00, 42.67it/s]\n"
     ]
    },
    {
     "name": "stdout",
     "output_type": "stream",
     "text": [
      "147|0:00:24|nc:7.4e+05|a0:0.67-0.73|swp:0.24-1.00|n:4600<5000|t!2(+nan,+0.01)|q:1.00|0.03ms/ev\n"
     ]
    },
    {
     "name": "stderr",
     "output_type": "stream",
     "text": [
      "100%|████████████████████████████████████████████| 5/5 [00:00<00:00, 42.66it/s]"
     ]
    },
    {
     "name": "stdout",
     "output_type": "stream",
     "text": [
      "148|0:00:24|nc:7.4e+05|a0:0.66-0.74|swp:0.24-1.00|n:4700<5000|t!2(+nan,+0.01)|q:1.00|0.03ms/ev\n"
     ]
    },
    {
     "name": "stderr",
     "output_type": "stream",
     "text": [
      "\n",
      "100%|████████████████████████████████████████████| 5/5 [00:00<00:00, 43.96it/s]"
     ]
    },
    {
     "name": "stdout",
     "output_type": "stream",
     "text": [
      "149|0:00:24|nc:7.4e+05|a0:0.66-0.74|swp:0.24-1.00|n:4800<5000|t!2(+nan,+0.01)|q:1.00|0.03ms/ev\n"
     ]
    },
    {
     "name": "stderr",
     "output_type": "stream",
     "text": [
      "\n",
      "100%|████████████████████████████████████████████| 5/5 [00:00<00:00, 42.27it/s]"
     ]
    },
    {
     "name": "stdout",
     "output_type": "stream",
     "text": [
      "150|0:00:24|nc:7.5e+05|a0:0.67-0.73|swp:0.24-1.00|n:4900<5000|t!2(+nan,+0.01)|q:1.00|0.03ms/ev\n"
     ]
    },
    {
     "name": "stderr",
     "output_type": "stream",
     "text": [
      "\n",
      "100%|████████████████████████████████████████████| 5/5 [00:00<00:00, 43.42it/s]"
     ]
    },
    {
     "name": "stdout",
     "output_type": "stream",
     "text": [
      "151|0:00:24|nc:7.6e+05|a0:0.66-0.74|swp:0.24-1.00|n:5000<5000|t!2(+nan,+0.01)|q:1.00|0.03ms/ev\n"
     ]
    },
    {
     "name": "stderr",
     "output_type": "stream",
     "text": [
      "\n",
      "100%|████████████████████████████████████████████| 5/5 [00:00<00:00, 41.18it/s]\n"
     ]
    },
    {
     "name": "stdout",
     "output_type": "stream",
     "text": [
      "152|0:00:24|nc:7.6e+05|a0:0.66-0.74|swp:0.24-1.00|n:5100<5000|t!2(+nan,+0.01)|q:1.00|0.03ms/ev\n"
     ]
    },
    {
     "name": "stderr",
     "output_type": "stream",
     "text": [
      "100%|████████████████████████████████████████████| 5/5 [00:00<00:00, 42.07it/s]"
     ]
    },
    {
     "name": "stdout",
     "output_type": "stream",
     "text": [
      "153|0:00:25|nc:7.6e+05|a0:0.66-0.73|swp:0.24-1.00|n:5200<5000|t!2(+nan,+0.01)|q:1.00|0.03ms/ev\n"
     ]
    },
    {
     "name": "stderr",
     "output_type": "stream",
     "text": [
      "\n",
      "100%|████████████████████████████████████████████| 5/5 [00:00<00:00, 38.77it/s]\n"
     ]
    },
    {
     "name": "stdout",
     "output_type": "stream",
     "text": [
      "154|0:00:25|nc:7.7e+05|a0:0.66-0.74|swp:0.24-1.00|n:5300<5000|t!2(+nan,+0.01)|q:1.00|0.03ms/ev\n"
     ]
    },
    {
     "name": "stderr",
     "output_type": "stream",
     "text": [
      "100%|████████████████████████████████████████████| 5/5 [00:00<00:00, 40.96it/s]\n"
     ]
    },
    {
     "name": "stdout",
     "output_type": "stream",
     "text": [
      "155|0:00:25|nc:7.8e+05|a0:0.67-0.74|swp:0.24-1.00|n:5400<5000|t!2(+nan,+0.01)|q:1.00|0.03ms/ev\n"
     ]
    },
    {
     "name": "stderr",
     "output_type": "stream",
     "text": [
      "100%|████████████████████████████████████████████| 5/5 [00:00<00:00, 38.60it/s]\n"
     ]
    },
    {
     "name": "stdout",
     "output_type": "stream",
     "text": [
      "156|0:00:25|nc:7.8e+05|a0:0.67-0.74|swp:0.24-1.00|n:5500<5000|t!2(+nan,+0.01)|q:1.00|0.03ms/ev\n"
     ]
    },
    {
     "name": "stderr",
     "output_type": "stream",
     "text": [
      "100%|████████████████████████████████████████████| 5/5 [00:00<00:00, 41.28it/s]"
     ]
    },
    {
     "name": "stdout",
     "output_type": "stream",
     "text": [
      "157|0:00:25|nc:7.8e+05|a0:0.67-0.74|swp:0.24-1.00|n:5600<5000|t!2(+nan,+0.01)|q:1.00|0.03ms/ev\n"
     ]
    },
    {
     "name": "stderr",
     "output_type": "stream",
     "text": [
      "\n",
      "100%|████████████████████████████████████████████| 5/5 [00:00<00:00, 41.12it/s]"
     ]
    },
    {
     "name": "stdout",
     "output_type": "stream",
     "text": [
      "158|0:00:25|nc:7.9e+05|a0:0.67-0.74|swp:0.24-1.00|n:5700<5000|t!2(+nan,+0.01)|q:1.00|0.03ms/ev\n"
     ]
    },
    {
     "name": "stderr",
     "output_type": "stream",
     "text": [
      "\n",
      "100%|████████████████████████████████████████████| 5/5 [00:00<00:00, 40.61it/s]"
     ]
    },
    {
     "name": "stdout",
     "output_type": "stream",
     "text": [
      "159|0:00:26|nc:8.0e+05|a0:0.67-0.73|swp:0.24-1.00|n:5800<5000|t!2(+nan,+0.01)|q:1.00|0.03ms/ev\n"
     ]
    },
    {
     "name": "stderr",
     "output_type": "stream",
     "text": [
      "\n",
      "100%|████████████████████████████████████████████| 5/5 [00:00<00:00, 42.70it/s]"
     ]
    },
    {
     "name": "stdout",
     "output_type": "stream",
     "text": [
      "160|0:00:26|nc:8.0e+05|a0:0.66-0.73|swp:0.24-1.00|n:5900<5000|t!2(+nan,+0.01)|q:1.00|0.03ms/ev\n"
     ]
    },
    {
     "name": "stderr",
     "output_type": "stream",
     "text": [
      "\n",
      "100%|████████████████████████████████████████████| 5/5 [00:00<00:00, 41.55it/s]"
     ]
    },
    {
     "name": "stdout",
     "output_type": "stream",
     "text": [
      "161|0:00:26|nc:8.0e+05|a0:0.66-0.74|swp:0.24-1.00|n:6000<5000|t!2(+nan,+0.01)|q:1.00|0.03ms/ev\n"
     ]
    },
    {
     "name": "stderr",
     "output_type": "stream",
     "text": [
      "\n",
      "100%|████████████████████████████████████████████| 5/5 [00:00<00:00, 41.00it/s]"
     ]
    },
    {
     "name": "stdout",
     "output_type": "stream",
     "text": [
      "162|0:00:26|nc:8.1e+05|a0:0.66-0.74|swp:0.24-1.00|n:6100<5000|t!2(+nan,+0.01)|q:1.00|0.03ms/ev\n"
     ]
    },
    {
     "name": "stderr",
     "output_type": "stream",
     "text": [
      "\n",
      "100%|████████████████████████████████████████████| 5/5 [00:00<00:00, 42.46it/s]"
     ]
    },
    {
     "name": "stdout",
     "output_type": "stream",
     "text": [
      "163|0:00:26|nc:8.2e+05|a0:0.67-0.73|swp:0.24-1.00|n:6200<5000|t!2(+nan,+0.01)|q:1.00|0.03ms/ev\n"
     ]
    },
    {
     "name": "stderr",
     "output_type": "stream",
     "text": [
      "\n",
      "100%|████████████████████████████████████████████| 5/5 [00:00<00:00, 42.57it/s]\n"
     ]
    },
    {
     "name": "stdout",
     "output_type": "stream",
     "text": [
      "164|0:00:26|nc:8.2e+05|a0:0.67-0.73|swp:0.24-1.00|n:6300<5000|t!2(+nan,+0.01)|q:1.00|0.03ms/ev\n"
     ]
    },
    {
     "name": "stderr",
     "output_type": "stream",
     "text": [
      "100%|████████████████████████████████████████████| 5/5 [00:00<00:00, 40.50it/s]"
     ]
    },
    {
     "name": "stdout",
     "output_type": "stream",
     "text": [
      "165|0:00:27|nc:8.2e+05|a0:0.67-0.73|swp:0.24-1.00|n:6400<5000|t!2(+nan,+0.01)|q:1.00|0.03ms/ev\n"
     ]
    },
    {
     "name": "stderr",
     "output_type": "stream",
     "text": [
      "\n",
      "100%|████████████████████████████████████████████| 5/5 [00:00<00:00, 39.24it/s]\n"
     ]
    },
    {
     "name": "stdout",
     "output_type": "stream",
     "text": [
      "166|0:00:27|nc:8.3e+05|a0:0.67-0.74|swp:0.24-1.00|n:6500<5000|t!2(+nan,+0.01)|q:1.00|0.04ms/ev\n"
     ]
    },
    {
     "name": "stderr",
     "output_type": "stream",
     "text": [
      "100%|████████████████████████████████████████████| 5/5 [00:00<00:00, 42.94it/s]\n"
     ]
    },
    {
     "name": "stdout",
     "output_type": "stream",
     "text": [
      "167|0:00:27|nc:8.4e+05|a0:0.67-0.74|swp:0.24-1.00|n:6600<5000|t!2(+nan,+0.01)|q:1.00|0.03ms/ev\n"
     ]
    },
    {
     "name": "stderr",
     "output_type": "stream",
     "text": [
      "100%|████████████████████████████████████████████| 5/5 [00:00<00:00, 42.00it/s]"
     ]
    },
    {
     "name": "stdout",
     "output_type": "stream",
     "text": [
      "168|0:00:27|nc:8.4e+05|a0:0.67-0.74|swp:0.24-1.00|n:6700<5000|t!2(+nan,+0.01)|q:1.00|0.03ms/ev\n"
     ]
    },
    {
     "name": "stderr",
     "output_type": "stream",
     "text": [
      "\n",
      "100%|████████████████████████████████████████████| 5/5 [00:00<00:00, 42.70it/s]"
     ]
    },
    {
     "name": "stdout",
     "output_type": "stream",
     "text": [
      "169|0:00:27|nc:8.4e+05|a0:0.67-0.73|swp:0.24-1.00|n:6800<5000|t!2(+nan,+0.01)|q:1.00|0.03ms/ev\n"
     ]
    },
    {
     "name": "stderr",
     "output_type": "stream",
     "text": [
      "\n",
      "100%|████████████████████████████████████████████| 5/5 [00:00<00:00, 39.54it/s]\n"
     ]
    },
    {
     "name": "stdout",
     "output_type": "stream",
     "text": [
      "170|0:00:27|nc:8.5e+05|a0:0.67-0.73|swp:0.24-1.00|n:6900<5000|t!2(+nan,+0.01)|q:1.00|0.03ms/ev\n"
     ]
    },
    {
     "name": "stderr",
     "output_type": "stream",
     "text": [
      "100%|████████████████████████████████████████████| 5/5 [00:00<00:00, 40.54it/s]"
     ]
    },
    {
     "name": "stdout",
     "output_type": "stream",
     "text": [
      "171|0:00:28|nc:8.6e+05|a0:0.67-0.74|swp:0.24-1.00|n:7000<5000|t!2(+nan,+0.01)|q:1.00|0.03ms/ev\n"
     ]
    },
    {
     "name": "stderr",
     "output_type": "stream",
     "text": [
      "\n",
      "100%|████████████████████████████████████████████| 5/5 [00:00<00:00, 42.08it/s]"
     ]
    },
    {
     "name": "stdout",
     "output_type": "stream",
     "text": [
      "172|0:00:28|nc:8.6e+05|a0:0.67-0.74|swp:0.24-1.00|n:7100<5000|t!2(+nan,+0.01)|q:1.00|0.03ms/ev\n"
     ]
    },
    {
     "name": "stderr",
     "output_type": "stream",
     "text": [
      "\n",
      "100%|████████████████████████████████████████████| 5/5 [00:00<00:00, 38.97it/s]\n"
     ]
    },
    {
     "name": "stdout",
     "output_type": "stream",
     "text": [
      "173|0:00:28|nc:8.6e+05|a0:0.67-0.74|swp:0.24-1.00|n:7200<5000|t!2(+nan,+0.01)|q:1.00|0.03ms/ev\n"
     ]
    },
    {
     "name": "stderr",
     "output_type": "stream",
     "text": [
      "100%|████████████████████████████████████████████| 5/5 [00:00<00:00, 44.52it/s]"
     ]
    },
    {
     "name": "stdout",
     "output_type": "stream",
     "text": [
      "174|0:00:28|nc:8.7e+05|a0:0.67-0.74|swp:0.24-1.00|n:7300<5000|t!2(+nan,+0.01)|q:1.00|0.03ms/ev\n"
     ]
    },
    {
     "name": "stderr",
     "output_type": "stream",
     "text": [
      "\n",
      "100%|████████████████████████████████████████████| 5/5 [00:00<00:00, 39.33it/s]\n"
     ]
    },
    {
     "name": "stdout",
     "output_type": "stream",
     "text": [
      "175|0:00:28|nc:8.8e+05|a0:0.67-0.74|swp:0.24-1.00|n:7400<5000|t!2(+nan,+0.01)|q:1.00|0.03ms/ev\n"
     ]
    },
    {
     "name": "stderr",
     "output_type": "stream",
     "text": [
      "100%|████████████████████████████████████████████| 5/5 [00:00<00:00, 36.94it/s]\n"
     ]
    },
    {
     "name": "stdout",
     "output_type": "stream",
     "text": [
      "176|0:00:29|nc:8.8e+05|a0:0.67-0.74|swp:0.24-1.00|n:7500<5000|t!2(+nan,+0.01)|q:1.00|0.03ms/ev\n"
     ]
    },
    {
     "name": "stderr",
     "output_type": "stream",
     "text": [
      "100%|████████████████████████████████████████████| 5/5 [00:00<00:00, 41.12it/s]\n"
     ]
    },
    {
     "name": "stdout",
     "output_type": "stream",
     "text": [
      "177|0:00:29|nc:8.8e+05|a0:0.67-0.74|swp:0.24-1.00|n:7600<5000|t!2(+nan,+0.01)|q:1.00|0.04ms/ev\n"
     ]
    },
    {
     "name": "stderr",
     "output_type": "stream",
     "text": [
      "100%|████████████████████████████████████████████| 5/5 [00:00<00:00, 41.91it/s]"
     ]
    },
    {
     "name": "stdout",
     "output_type": "stream",
     "text": [
      "178|0:00:29|nc:8.9e+05|a0:0.67-0.74|swp:0.24-1.00|n:7700<5000|t!2(+nan,+0.01)|q:1.00|0.04ms/ev\n"
     ]
    },
    {
     "name": "stderr",
     "output_type": "stream",
     "text": [
      "\n",
      "100%|████████████████████████████████████████████| 5/5 [00:00<00:00, 41.41it/s]"
     ]
    },
    {
     "name": "stdout",
     "output_type": "stream",
     "text": [
      "179|0:00:29|nc:9.0e+05|a0:0.67-0.74|swp:0.24-1.00|n:7800<5000|t!2(+nan,+0.01)|q:1.00|0.03ms/ev\n"
     ]
    },
    {
     "name": "stderr",
     "output_type": "stream",
     "text": [
      "\n",
      "100%|████████████████████████████████████████████| 5/5 [00:00<00:00, 37.88it/s]\n"
     ]
    },
    {
     "name": "stdout",
     "output_type": "stream",
     "text": [
      "180|0:00:29|nc:9.0e+05|a0:0.67-0.74|swp:0.24-1.00|n:7900<5000|t!2(+nan,+0.01)|q:1.00|0.04ms/ev\n"
     ]
    },
    {
     "name": "stderr",
     "output_type": "stream",
     "text": [
      "100%|████████████████████████████████████████████| 5/5 [00:00<00:00, 41.88it/s]\n"
     ]
    },
    {
     "name": "stdout",
     "output_type": "stream",
     "text": [
      "181|0:00:29|nc:9.0e+05|a0:0.67-0.74|swp:0.24-1.00|n:8000<5000|t!2(+nan,+0.01)|q:1.00|0.03ms/ev\n"
     ]
    },
    {
     "name": "stderr",
     "output_type": "stream",
     "text": [
      "100%|████████████████████████████████████████████| 5/5 [00:00<00:00, 44.72it/s]"
     ]
    },
    {
     "name": "stdout",
     "output_type": "stream",
     "text": [
      "182|0:00:30|nc:9.1e+05|a0:0.67-0.74|swp:0.24-1.00|n:8100<5000|t!2(+nan,+0.01)|q:1.00|0.03ms/ev\n"
     ]
    },
    {
     "name": "stderr",
     "output_type": "stream",
     "text": [
      "\n",
      "100%|████████████████████████████████████████████| 5/5 [00:00<00:00, 42.01it/s]"
     ]
    },
    {
     "name": "stdout",
     "output_type": "stream",
     "text": [
      "183|0:00:30|nc:9.2e+05|a0:0.68-0.74|swp:0.24-1.00|n:8200<5000|t!2(+nan,+0.01)|q:1.00|0.03ms/ev\n"
     ]
    },
    {
     "name": "stderr",
     "output_type": "stream",
     "text": [
      "\n",
      "100%|████████████████████████████████████████████| 5/5 [00:00<00:00, 39.52it/s]\n"
     ]
    },
    {
     "name": "stdout",
     "output_type": "stream",
     "text": [
      "184|0:00:30|nc:9.2e+05|a0:0.68-0.74|swp:0.24-1.00|n:8300<5000|t!2(+nan,+0.01)|q:1.00|0.03ms/ev\n"
     ]
    },
    {
     "name": "stderr",
     "output_type": "stream",
     "text": [
      "100%|████████████████████████████████████████████| 5/5 [00:00<00:00, 41.19it/s]\n"
     ]
    },
    {
     "name": "stdout",
     "output_type": "stream",
     "text": [
      "185|0:00:30|nc:9.2e+05|a0:0.67-0.74|swp:0.24-1.00|n:8400<5000|t!2(+nan,+0.01)|q:1.00|0.03ms/ev\n"
     ]
    },
    {
     "name": "stderr",
     "output_type": "stream",
     "text": [
      "100%|████████████████████████████████████████████| 5/5 [00:00<00:00, 42.59it/s]"
     ]
    },
    {
     "name": "stdout",
     "output_type": "stream",
     "text": [
      "186|0:00:30|nc:9.3e+05|a0:0.67-0.74|swp:0.24-1.00|n:8500<5000|t!2(+nan,+0.01)|q:1.00|0.03ms/ev\n"
     ]
    },
    {
     "name": "stderr",
     "output_type": "stream",
     "text": [
      "\n",
      "100%|████████████████████████████████████████████| 5/5 [00:00<00:00, 28.32it/s]\n"
     ]
    },
    {
     "name": "stdout",
     "output_type": "stream",
     "text": [
      "187|0:00:30|nc:9.4e+05|a0:0.67-0.74|swp:0.24-1.00|n:8600<5000|t!2(+nan,+0.01)|q:1.00|0.04ms/ev\n"
     ]
    },
    {
     "name": "stderr",
     "output_type": "stream",
     "text": [
      "100%|████████████████████████████████████████████| 5/5 [00:00<00:00, 28.63it/s]\n"
     ]
    },
    {
     "name": "stdout",
     "output_type": "stream",
     "text": [
      "188|0:00:31|nc:9.4e+05|a0:0.68-0.74|swp:0.24-1.00|n:8700<5000|t!2(+nan,+0.01)|q:1.00|0.04ms/ev\n"
     ]
    },
    {
     "name": "stderr",
     "output_type": "stream",
     "text": [
      "100%|████████████████████████████████████████████| 5/5 [00:00<00:00, 39.11it/s]\n"
     ]
    },
    {
     "name": "stdout",
     "output_type": "stream",
     "text": [
      "189|0:00:31|nc:9.4e+05|a0:0.68-0.74|swp:0.24-1.00|n:8800<5000|t!2(+nan,+0.01)|q:1.00|0.04ms/ev\n"
     ]
    },
    {
     "name": "stderr",
     "output_type": "stream",
     "text": [
      "100%|████████████████████████████████████████████| 5/5 [00:00<00:00, 40.20it/s]"
     ]
    },
    {
     "name": "stdout",
     "output_type": "stream",
     "text": [
      "190|0:00:31|nc:9.5e+05|a0:0.68-0.74|swp:0.24-1.00|n:8900<5000|t!2(+nan,+0.01)|q:1.00|0.04ms/ev\n"
     ]
    },
    {
     "name": "stderr",
     "output_type": "stream",
     "text": [
      "\n",
      "100%|████████████████████████████████████████████| 5/5 [00:00<00:00, 38.66it/s]\n"
     ]
    },
    {
     "name": "stdout",
     "output_type": "stream",
     "text": [
      "191|0:00:31|nc:9.6e+05|a0:0.67-0.74|swp:0.24-1.00|n:9000<5000|t!2(+nan,+0.01)|q:1.00|0.04ms/ev\n"
     ]
    },
    {
     "name": "stderr",
     "output_type": "stream",
     "text": [
      "100%|████████████████████████████████████████████| 5/5 [00:00<00:00, 36.52it/s]\n"
     ]
    },
    {
     "name": "stdout",
     "output_type": "stream",
     "text": [
      "192|0:00:31|nc:9.6e+05|a0:0.68-0.74|swp:0.24-1.00|n:9100<5000|t!2(+nan,+0.01)|q:1.00|0.04ms/ev\n"
     ]
    },
    {
     "name": "stderr",
     "output_type": "stream",
     "text": [
      "100%|████████████████████████████████████████████| 5/5 [00:00<00:00, 35.36it/s]\n"
     ]
    },
    {
     "name": "stdout",
     "output_type": "stream",
     "text": [
      "193|0:00:32|nc:9.6e+05|a0:0.68-0.74|swp:0.24-1.00|n:9200<5000|t!2(+nan,+0.01)|q:1.00|0.04ms/ev\n"
     ]
    },
    {
     "name": "stderr",
     "output_type": "stream",
     "text": [
      "100%|████████████████████████████████████████████| 5/5 [00:00<00:00, 25.30it/s]\n"
     ]
    },
    {
     "name": "stdout",
     "output_type": "stream",
     "text": [
      "194|0:00:32|nc:9.7e+05|a0:0.68-0.74|swp:0.24-1.00|n:9300<5000|t!2(+nan,+0.01)|q:1.00|0.04ms/ev\n"
     ]
    },
    {
     "name": "stderr",
     "output_type": "stream",
     "text": [
      "100%|████████████████████████████████████████████| 5/5 [00:00<00:00, 30.33it/s]"
     ]
    },
    {
     "name": "stdout",
     "output_type": "stream",
     "text": [
      "195|0:00:32|nc:9.8e+05|a0:0.68-0.74|swp:0.24-1.00|n:9400<5000|t!2(+nan,+0.01)|q:1.00|0.05ms/ev\n"
     ]
    },
    {
     "name": "stderr",
     "output_type": "stream",
     "text": [
      "\n",
      "100%|████████████████████████████████████████████| 5/5 [00:00<00:00, 41.10it/s]\n"
     ]
    },
    {
     "name": "stdout",
     "output_type": "stream",
     "text": [
      "196|0:00:32|nc:9.8e+05|a0:0.68-0.74|swp:0.24-1.00|n:9500<5000|t!2(+nan,+0.01)|q:1.00|0.05ms/ev\n"
     ]
    },
    {
     "name": "stderr",
     "output_type": "stream",
     "text": [
      "100%|████████████████████████████████████████████| 5/5 [00:00<00:00, 38.76it/s]\n"
     ]
    },
    {
     "name": "stdout",
     "output_type": "stream",
     "text": [
      "197|0:00:32|nc:9.8e+05|a0:0.68-0.74|swp:0.24-1.00|n:9600<5000|t!2(+nan,+0.01)|q:1.00|0.04ms/ev\n"
     ]
    },
    {
     "name": "stderr",
     "output_type": "stream",
     "text": [
      "100%|████████████████████████████████████████████| 5/5 [00:00<00:00, 40.49it/s]\n"
     ]
    },
    {
     "name": "stdout",
     "output_type": "stream",
     "text": [
      "198|0:00:33|nc:9.9e+05|a0:0.68-0.74|swp:0.24-1.00|n:9700<5000|t!2(+nan,+0.01)|q:1.00|0.04ms/ev\n"
     ]
    },
    {
     "name": "stderr",
     "output_type": "stream",
     "text": [
      "100%|████████████████████████████████████████████| 5/5 [00:00<00:00, 40.91it/s]"
     ]
    },
    {
     "name": "stdout",
     "output_type": "stream",
     "text": [
      "199|0:00:33|nc:1.0e+06|a0:0.67-0.74|swp:0.24-1.00|n:9800<5000|t!2(+nan,+0.01)|q:1.00|0.04ms/ev\n"
     ]
    },
    {
     "name": "stderr",
     "output_type": "stream",
     "text": [
      "\n",
      "100%|████████████████████████████████████████████| 5/5 [00:00<00:00, 38.78it/s]\n"
     ]
    },
    {
     "name": "stdout",
     "output_type": "stream",
     "text": [
      "200|0:00:33|nc:1.0e+06|a0:0.67-0.74|swp:0.24-1.00|n:9900<5000|t!2(+nan,+0.01)|q:1.00|0.04ms/ev\n"
     ]
    },
    {
     "name": "stderr",
     "output_type": "stream",
     "text": [
      "100%|████████████████████████████████████████████| 5/5 [00:00<00:00, 37.39it/s]\n"
     ]
    },
    {
     "name": "stdout",
     "output_type": "stream",
     "text": [
      "201|0:00:33|nc:1.0e+06|a0:0.67-0.74|swp:0.24-1.00|n:10000<5000|t!2(+nan,+0.01)|q:1.00|0.04ms/ev\n"
     ]
    },
    {
     "name": "stderr",
     "output_type": "stream",
     "text": [
      "100%|████████████████████████████████████████████| 5/5 [00:00<00:00, 42.81it/s]\n"
     ]
    },
    {
     "name": "stdout",
     "output_type": "stream",
     "text": [
      "202|0:00:33|nc:1.0e+06|a0:0.67-0.74|swp:0.24-1.00|n:10100<5000|t!2(+nan,+0.01)|q:1.00|0.04ms/ev\n"
     ]
    },
    {
     "name": "stderr",
     "output_type": "stream",
     "text": [
      "100%|████████████████████████████████████████████| 5/5 [00:00<00:00, 43.76it/s]"
     ]
    },
    {
     "name": "stdout",
     "output_type": "stream",
     "text": [
      "203|0:00:34|nc:1.0e+06|a0:0.67-0.74|swp:0.24-1.00|n:10200<5000|t!2(+nan,+0.01)|q:1.00|0.03ms/ev\n"
     ]
    },
    {
     "name": "stderr",
     "output_type": "stream",
     "text": [
      "\n",
      "100%|████████████████████████████████████████████| 5/5 [00:00<00:00, 41.78it/s]"
     ]
    },
    {
     "name": "stdout",
     "output_type": "stream",
     "text": [
      "204|0:00:34|nc:1.0e+06|a0:0.68-0.74|swp:0.24-1.00|n:10300<5000|t!2(+nan,+0.00)|q:1.00|0.03ms/ev\n"
     ]
    },
    {
     "name": "stderr",
     "output_type": "stream",
     "text": [
      "\n",
      "100%|████████████████████████████████████████████| 5/5 [00:00<00:00, 22.15it/s]"
     ]
    },
    {
     "name": "stdout",
     "output_type": "stream",
     "text": [
      "205|0:00:34|nc:1.0e+06|a0:0.68-0.74|swp:0.24-1.00|n:10400<5000|t!2(+nan,+0.00)|q:1.00|0.04ms/ev\n"
     ]
    },
    {
     "name": "stderr",
     "output_type": "stream",
     "text": [
      "\n",
      "100%|████████████████████████████████████████████| 5/5 [00:00<00:00, 41.79it/s]"
     ]
    },
    {
     "name": "stdout",
     "output_type": "stream",
     "text": [
      "206|0:00:34|nc:1.0e+06|a0:0.68-0.74|swp:0.24-1.00|n:10500<5000|t!2(+nan,+0.00)|q:1.00|0.04ms/ev\n"
     ]
    },
    {
     "name": "stderr",
     "output_type": "stream",
     "text": [
      "\n",
      "100%|████████████████████████████████████████████| 5/5 [00:00<00:00, 39.57it/s]\n"
     ]
    },
    {
     "name": "stdout",
     "output_type": "stream",
     "text": [
      "207|0:00:34|nc:1.0e+06|a0:0.68-0.74|swp:0.24-1.00|n:10600<5000|t!2(+nan,+0.00)|q:1.00|0.04ms/ev\n"
     ]
    },
    {
     "name": "stderr",
     "output_type": "stream",
     "text": [
      "100%|████████████████████████████████████████████| 5/5 [00:00<00:00, 44.65it/s]\n"
     ]
    },
    {
     "name": "stdout",
     "output_type": "stream",
     "text": [
      "208|0:00:35|nc:1.0e+06|a0:0.68-0.74|swp:0.24-1.00|n:10700<5000|t!2(+nan,+0.00)|q:1.00|0.03ms/ev\n"
     ]
    },
    {
     "name": "stderr",
     "output_type": "stream",
     "text": [
      "100%|████████████████████████████████████████████| 5/5 [00:00<00:00, 41.87it/s]"
     ]
    },
    {
     "name": "stdout",
     "output_type": "stream",
     "text": [
      "209|0:00:35|nc:1.0e+06|a0:0.68-0.74|swp:0.24-1.00|n:10800<5000|t!2(+nan,+0.00)|q:1.00|0.03ms/ev\n"
     ]
    },
    {
     "name": "stderr",
     "output_type": "stream",
     "text": [
      "\n",
      "100%|████████████████████████████████████████████| 5/5 [00:00<00:00, 38.61it/s]\n"
     ]
    },
    {
     "name": "stdout",
     "output_type": "stream",
     "text": [
      "210|0:00:35|nc:1.0e+06|a0:0.68-0.74|swp:0.24-1.00|n:10900<5000|t!2(+nan,+0.00)|q:1.00|0.03ms/ev\n"
     ]
    },
    {
     "name": "stderr",
     "output_type": "stream",
     "text": [
      "100%|████████████████████████████████████████████| 5/5 [00:00<00:00, 42.27it/s]\n"
     ]
    },
    {
     "name": "stdout",
     "output_type": "stream",
     "text": [
      "211|0:00:35|nc:1.1e+06|a0:0.68-0.74|swp:0.24-1.00|n:11000<5000|t!2(+nan,+0.00)|q:1.00|0.03ms/ev\n"
     ]
    },
    {
     "name": "stderr",
     "output_type": "stream",
     "text": [
      "100%|████████████████████████████████████████████| 5/5 [00:00<00:00, 42.34it/s]"
     ]
    },
    {
     "name": "stdout",
     "output_type": "stream",
     "text": [
      "212|0:00:35|nc:1.1e+06|a0:0.68-0.74|swp:0.24-1.00|n:11100<5000|t!2(+nan,+0.00)|q:1.00|0.03ms/ev\n"
     ]
    },
    {
     "name": "stderr",
     "output_type": "stream",
     "text": [
      "\n",
      "100%|████████████████████████████████████████████| 5/5 [00:00<00:00, 42.11it/s]"
     ]
    },
    {
     "name": "stdout",
     "output_type": "stream",
     "text": [
      "213|0:00:35|nc:1.1e+06|a0:0.68-0.74|swp:0.24-1.00|n:11200<5000|t!2(+nan,+0.00)|q:1.00|0.03ms/ev\n"
     ]
    },
    {
     "name": "stderr",
     "output_type": "stream",
     "text": [
      "\n",
      "100%|████████████████████████████████████████████| 5/5 [00:00<00:00, 40.86it/s]\n"
     ]
    },
    {
     "name": "stdout",
     "output_type": "stream",
     "text": [
      "214|0:00:36|nc:1.1e+06|a0:0.68-0.74|swp:0.24-1.00|n:11300<5000|t!2(+nan,+0.00)|q:1.00|0.03ms/ev\n"
     ]
    },
    {
     "name": "stderr",
     "output_type": "stream",
     "text": [
      "100%|████████████████████████████████████████████| 5/5 [00:00<00:00, 44.12it/s]"
     ]
    },
    {
     "name": "stdout",
     "output_type": "stream",
     "text": [
      "215|0:00:36|nc:1.1e+06|a0:0.68-0.74|swp:0.24-1.00|n:11400<5000|t!2(+nan,+0.00)|q:1.00|0.03ms/ev\n"
     ]
    },
    {
     "name": "stderr",
     "output_type": "stream",
     "text": [
      "\n",
      "100%|████████████████████████████████████████████| 5/5 [00:00<00:00, 39.49it/s]\n"
     ]
    },
    {
     "name": "stdout",
     "output_type": "stream",
     "text": [
      "216|0:00:36|nc:1.1e+06|a0:0.68-0.74|swp:0.24-1.00|n:11500<5000|t!2(+nan,+0.00)|q:1.00|0.03ms/ev\n"
     ]
    },
    {
     "name": "stderr",
     "output_type": "stream",
     "text": [
      "100%|████████████████████████████████████████████| 5/5 [00:00<00:00, 40.92it/s]"
     ]
    },
    {
     "name": "stdout",
     "output_type": "stream",
     "text": [
      "217|0:00:36|nc:1.1e+06|a0:0.68-0.74|swp:0.24-1.00|n:11600<5000|t!2(+nan,+0.00)|q:1.00|0.03ms/ev\n"
     ]
    },
    {
     "name": "stderr",
     "output_type": "stream",
     "text": [
      "\n",
      "100%|████████████████████████████████████████████| 5/5 [00:00<00:00, 42.46it/s]"
     ]
    },
    {
     "name": "stdout",
     "output_type": "stream",
     "text": [
      "218|0:00:36|nc:1.1e+06|a0:0.67-0.74|swp:0.24-1.00|n:11700<5000|t!2(+nan,+0.00)|q:1.00|0.03ms/ev\n"
     ]
    },
    {
     "name": "stderr",
     "output_type": "stream",
     "text": [
      "\n",
      "100%|████████████████████████████████████████████| 5/5 [00:00<00:00, 40.57it/s]"
     ]
    },
    {
     "name": "stdout",
     "output_type": "stream",
     "text": [
      "219|0:00:36|nc:1.1e+06|a0:0.68-0.74|swp:0.24-1.00|n:11800<5000|t!2(+nan,+0.00)|q:1.00|0.03ms/ev\n"
     ]
    },
    {
     "name": "stderr",
     "output_type": "stream",
     "text": [
      "\n",
      "100%|████████████████████████████████████████████| 5/5 [00:00<00:00, 40.81it/s]\n"
     ]
    },
    {
     "name": "stdout",
     "output_type": "stream",
     "text": [
      "220|0:00:37|nc:1.1e+06|a0:0.68-0.74|swp:0.24-1.00|n:11900<5000|t!2(+nan,+0.00)|q:1.00|0.03ms/ev\n"
     ]
    },
    {
     "name": "stderr",
     "output_type": "stream",
     "text": [
      "100%|████████████████████████████████████████████| 5/5 [00:00<00:00, 40.80it/s]\n"
     ]
    },
    {
     "name": "stdout",
     "output_type": "stream",
     "text": [
      "221|0:00:37|nc:1.1e+06|a0:0.68-0.74|swp:0.24-1.00|n:12000<5000|t!2(+nan,+0.00)|q:1.00|0.03ms/ev\n"
     ]
    },
    {
     "name": "stderr",
     "output_type": "stream",
     "text": [
      "100%|████████████████████████████████████████████| 5/5 [00:00<00:00, 35.51it/s]\n"
     ]
    },
    {
     "name": "stdout",
     "output_type": "stream",
     "text": [
      "222|0:00:37|nc:1.1e+06|a0:0.68-0.74|swp:0.24-1.00|n:12100<5000|t!2(+nan,+0.00)|q:1.00|0.04ms/ev\n"
     ]
    },
    {
     "name": "stderr",
     "output_type": "stream",
     "text": [
      "100%|████████████████████████████████████████████| 5/5 [00:00<00:00, 29.76it/s]"
     ]
    },
    {
     "name": "stdout",
     "output_type": "stream",
     "text": [
      "223|0:00:37|nc:1.1e+06|a0:0.68-0.74|swp:0.24-1.00|n:12200<5000|t!2(+nan,+0.00)|q:1.00|0.04ms/ev\n"
     ]
    },
    {
     "name": "stderr",
     "output_type": "stream",
     "text": [
      "\n",
      "100%|████████████████████████████████████████████| 5/5 [00:00<00:00, 33.09it/s]"
     ]
    },
    {
     "name": "stdout",
     "output_type": "stream",
     "text": [
      "224|0:00:37|nc:1.1e+06|a0:0.68-0.74|swp:0.24-1.00|n:12300<5000|t!2(+nan,+0.00)|q:1.00|0.04ms/ev\n"
     ]
    },
    {
     "name": "stderr",
     "output_type": "stream",
     "text": [
      "\n",
      "100%|████████████████████████████████████████████| 5/5 [00:00<00:00, 41.17it/s]\n"
     ]
    },
    {
     "name": "stdout",
     "output_type": "stream",
     "text": [
      "225|0:00:38|nc:1.1e+06|a0:0.68-0.74|swp:0.24-1.00|n:12400<5000|t!2(+nan,+0.00)|q:1.00|0.04ms/ev\n"
     ]
    },
    {
     "name": "stderr",
     "output_type": "stream",
     "text": [
      "100%|████████████████████████████████████████████| 5/5 [00:00<00:00, 42.24it/s]"
     ]
    },
    {
     "name": "stdout",
     "output_type": "stream",
     "text": [
      "226|0:00:38|nc:1.1e+06|a0:0.68-0.74|swp:0.24-1.00|n:12500<5000|t!2(+nan,+0.00)|q:1.00|0.04ms/ev\n"
     ]
    },
    {
     "name": "stderr",
     "output_type": "stream",
     "text": [
      "\n",
      "100%|████████████████████████████████████████████| 5/5 [00:00<00:00, 30.54it/s]"
     ]
    },
    {
     "name": "stdout",
     "output_type": "stream",
     "text": [
      "227|0:00:38|nc:1.1e+06|a0:0.68-0.74|swp:0.24-1.00|n:12600<5000|t!2(+nan,+0.00)|q:1.00|0.04ms/ev\n"
     ]
    },
    {
     "name": "stderr",
     "output_type": "stream",
     "text": [
      "\n",
      "100%|████████████████████████████████████████████| 5/5 [00:00<00:00, 29.90it/s]"
     ]
    },
    {
     "name": "stdout",
     "output_type": "stream",
     "text": [
      "228|0:00:38|nc:1.1e+06|a0:0.68-0.74|swp:0.24-1.00|n:12700<5000|t!2(+nan,+0.00)|q:1.00|0.04ms/ev\n"
     ]
    },
    {
     "name": "stderr",
     "output_type": "stream",
     "text": [
      "\n",
      "100%|████████████████████████████████████████████| 5/5 [00:00<00:00, 32.58it/s]"
     ]
    },
    {
     "name": "stdout",
     "output_type": "stream",
     "text": [
      "229|0:00:38|nc:1.1e+06|a0:0.68-0.74|swp:0.24-1.00|n:12800<5000|t!2(+nan,+0.00)|q:1.00|0.04ms/ev\n"
     ]
    },
    {
     "name": "stderr",
     "output_type": "stream",
     "text": [
      "\n",
      "100%|████████████████████████████████████████████| 5/5 [00:00<00:00, 36.48it/s]\n"
     ]
    },
    {
     "name": "stdout",
     "output_type": "stream",
     "text": [
      "230|0:00:39|nc:1.2e+06|a0:0.68-0.74|swp:0.24-1.00|n:12900<5000|t!2(+nan,+0.00)|q:1.00|0.04ms/ev\n"
     ]
    },
    {
     "name": "stderr",
     "output_type": "stream",
     "text": [
      "100%|████████████████████████████████████████████| 5/5 [00:00<00:00, 41.43it/s]\n"
     ]
    },
    {
     "name": "stdout",
     "output_type": "stream",
     "text": [
      "231|0:00:39|nc:1.2e+06|a0:0.68-0.74|swp:0.24-1.00|n:13000<5000|t!2(+nan,+0.00)|q:1.00|0.04ms/ev\n"
     ]
    },
    {
     "name": "stderr",
     "output_type": "stream",
     "text": [
      "100%|████████████████████████████████████████████| 5/5 [00:00<00:00, 41.66it/s]\n"
     ]
    },
    {
     "name": "stdout",
     "output_type": "stream",
     "text": [
      "232|0:00:39|nc:1.2e+06|a0:0.68-0.74|swp:0.24-1.00|n:13100<5000|t!2(+nan,+0.00)|q:1.00|0.04ms/ev\n"
     ]
    },
    {
     "name": "stderr",
     "output_type": "stream",
     "text": [
      "100%|████████████████████████████████████████████| 5/5 [00:00<00:00, 41.03it/s]"
     ]
    },
    {
     "name": "stdout",
     "output_type": "stream",
     "text": [
      "233|0:00:39|nc:1.2e+06|a0:0.68-0.74|swp:0.24-1.00|n:13200<5000|t!2(+nan,+0.00)|q:1.00|0.03ms/ev\n"
     ]
    },
    {
     "name": "stderr",
     "output_type": "stream",
     "text": [
      "\n",
      "100%|████████████████████████████████████████████| 5/5 [00:00<00:00, 33.95it/s]\n"
     ]
    },
    {
     "name": "stdout",
     "output_type": "stream",
     "text": [
      "234|0:00:39|nc:1.2e+06|a0:0.68-0.74|swp:0.24-1.00|n:13300<5000|t!2(+nan,+0.00)|q:1.00|0.04ms/ev\n"
     ]
    },
    {
     "name": "stderr",
     "output_type": "stream",
     "text": [
      "100%|████████████████████████████████████████████| 5/5 [00:00<00:00, 41.92it/s]"
     ]
    },
    {
     "name": "stdout",
     "output_type": "stream",
     "text": [
      "235|0:00:39|nc:1.2e+06|a0:0.68-0.74|swp:0.24-1.00|n:13400<5000|t!2(+nan,+0.00)|q:1.00|0.04ms/ev\n"
     ]
    },
    {
     "name": "stderr",
     "output_type": "stream",
     "text": [
      "\n",
      "100%|████████████████████████████████████████████| 5/5 [00:00<00:00, 40.22it/s]\n"
     ]
    },
    {
     "name": "stdout",
     "output_type": "stream",
     "text": [
      "236|0:00:40|nc:1.2e+06|a0:0.68-0.74|swp:0.24-1.00|n:13500<5000|t!2(+nan,+0.00)|q:1.00|0.04ms/ev\n"
     ]
    },
    {
     "name": "stderr",
     "output_type": "stream",
     "text": [
      "100%|████████████████████████████████████████████| 5/5 [00:00<00:00, 31.90it/s]"
     ]
    },
    {
     "name": "stdout",
     "output_type": "stream",
     "text": [
      "237|0:00:40|nc:1.2e+06|a0:0.68-0.74|swp:0.24-1.00|n:13600<5000|t!2(+nan,+0.00)|q:1.00|0.04ms/ev\n"
     ]
    },
    {
     "name": "stderr",
     "output_type": "stream",
     "text": [
      "\n",
      "100%|████████████████████████████████████████████| 5/5 [00:00<00:00, 41.09it/s]"
     ]
    },
    {
     "name": "stdout",
     "output_type": "stream",
     "text": [
      "238|0:00:40|nc:1.2e+06|a0:0.68-0.74|swp:0.24-1.00|n:13700<5000|t!2(+nan,+0.00)|q:1.00|0.04ms/ev\n"
     ]
    },
    {
     "name": "stderr",
     "output_type": "stream",
     "text": [
      "\n",
      "100%|████████████████████████████████████████████| 5/5 [00:00<00:00, 40.27it/s]"
     ]
    },
    {
     "name": "stdout",
     "output_type": "stream",
     "text": [
      "239|0:00:40|nc:1.2e+06|a0:0.68-0.74|swp:0.24-1.00|n:13800<5000|t!2(+nan,+0.00)|q:1.00|0.04ms/ev\n"
     ]
    },
    {
     "name": "stderr",
     "output_type": "stream",
     "text": [
      "\n",
      "100%|████████████████████████████████████████████| 5/5 [00:00<00:00, 40.59it/s]"
     ]
    },
    {
     "name": "stdout",
     "output_type": "stream",
     "text": [
      "240|0:00:40|nc:1.2e+06|a0:0.68-0.74|swp:0.24-1.00|n:13900<5000|t!2(+nan,+0.00)|q:1.00|0.03ms/ev\n"
     ]
    },
    {
     "name": "stderr",
     "output_type": "stream",
     "text": [
      "\n",
      "100%|████████████████████████████████████████████| 5/5 [00:00<00:00, 39.52it/s]\n"
     ]
    },
    {
     "name": "stdout",
     "output_type": "stream",
     "text": [
      "241|0:00:41|nc:1.2e+06|a0:0.68-0.74|swp:0.24-1.00|n:14000<5000|t!2(+nan,+0.00)|q:1.00|0.03ms/ev\n"
     ]
    },
    {
     "name": "stderr",
     "output_type": "stream",
     "text": [
      "100%|████████████████████████████████████████████| 5/5 [00:00<00:00, 43.96it/s]\n"
     ]
    },
    {
     "name": "stdout",
     "output_type": "stream",
     "text": [
      "242|0:00:41|nc:1.2e+06|a0:0.68-0.74|swp:0.24-1.00|n:14100<5000|t!2(+nan,+0.00)|q:1.00|0.03ms/ev\n"
     ]
    },
    {
     "name": "stderr",
     "output_type": "stream",
     "text": [
      "100%|████████████████████████████████████████████| 5/5 [00:00<00:00, 38.51it/s]\n"
     ]
    },
    {
     "name": "stdout",
     "output_type": "stream",
     "text": [
      "243|0:00:41|nc:1.2e+06|a0:0.68-0.74|swp:0.24-1.00|n:14200<5000|t!2(+nan,+0.00)|q:1.00|0.03ms/ev\n"
     ]
    },
    {
     "name": "stderr",
     "output_type": "stream",
     "text": [
      "100%|████████████████████████████████████████████| 5/5 [00:00<00:00, 43.72it/s]\n"
     ]
    },
    {
     "name": "stdout",
     "output_type": "stream",
     "text": [
      "244|0:00:41|nc:1.2e+06|a0:0.68-0.74|swp:0.24-1.00|n:14300<5000|t!2(+nan,+0.00)|q:1.00|0.03ms/ev\n"
     ]
    },
    {
     "name": "stderr",
     "output_type": "stream",
     "text": [
      "100%|████████████████████████████████████████████| 5/5 [00:00<00:00, 43.99it/s]"
     ]
    },
    {
     "name": "stdout",
     "output_type": "stream",
     "text": [
      "245|0:00:41|nc:1.2e+06|a0:0.68-0.74|swp:0.24-1.00|n:14400<5000|t!2(+nan,+0.00)|q:1.00|0.03ms/ev\n"
     ]
    },
    {
     "name": "stderr",
     "output_type": "stream",
     "text": [
      "\n",
      "100%|████████████████████████████████████████████| 5/5 [00:00<00:00, 37.13it/s]\n"
     ]
    },
    {
     "name": "stdout",
     "output_type": "stream",
     "text": [
      "246|0:00:41|nc:1.2e+06|a0:0.68-0.74|swp:0.24-1.00|n:14500<5000|t!2(+nan,+0.00)|q:1.00|0.03ms/ev\n"
     ]
    },
    {
     "name": "stderr",
     "output_type": "stream",
     "text": [
      "100%|████████████████████████████████████████████| 5/5 [00:00<00:00, 36.66it/s]\n"
     ]
    },
    {
     "name": "stdout",
     "output_type": "stream",
     "text": [
      "247|0:00:42|nc:1.2e+06|a0:0.68-0.74|swp:0.24-1.00|n:14600<5000|t!2(+nan,+0.00)|q:1.00|0.04ms/ev\n"
     ]
    },
    {
     "name": "stderr",
     "output_type": "stream",
     "text": [
      "100%|████████████████████████████████████████████| 5/5 [00:00<00:00, 41.69it/s]\n"
     ]
    },
    {
     "name": "stdout",
     "output_type": "stream",
     "text": [
      "248|0:00:42|nc:1.2e+06|a0:0.68-0.74|swp:0.24-1.00|n:14700<5000|t!2(+nan,+0.00)|q:1.00|0.04ms/ev\n"
     ]
    },
    {
     "name": "stderr",
     "output_type": "stream",
     "text": [
      "100%|████████████████████████████████████████████| 5/5 [00:00<00:00, 41.78it/s]"
     ]
    },
    {
     "name": "stdout",
     "output_type": "stream",
     "text": [
      "249|0:00:42|nc:1.2e+06|a0:0.68-0.74|swp:0.24-1.00|n:14800<5000|t!2(+nan,+0.00)|q:1.00|0.04ms/ev\n"
     ]
    },
    {
     "name": "stderr",
     "output_type": "stream",
     "text": [
      "\n",
      "100%|████████████████████████████████████████████| 5/5 [00:00<00:00, 42.41it/s]"
     ]
    },
    {
     "name": "stdout",
     "output_type": "stream",
     "text": [
      "250|0:00:42|nc:1.2e+06|a0:0.68-0.74|swp:0.24-1.00|n:14900<5000|t!2(+nan,+0.00)|q:1.00|0.03ms/ev\n"
     ]
    },
    {
     "name": "stderr",
     "output_type": "stream",
     "text": [
      "\n",
      "100%|████████████████████████████████████████████| 5/5 [00:00<00:00, 43.93it/s]"
     ]
    },
    {
     "name": "stdout",
     "output_type": "stream",
     "text": [
      "251|0:00:42|nc:1.3e+06|a0:0.68-0.74|swp:0.24-1.00|n:15000<5000|t!2(+nan,+0.00)|q:1.00|0.03ms/ev\n"
     ]
    },
    {
     "name": "stderr",
     "output_type": "stream",
     "text": [
      "\n",
      "100%|████████████████████████████████████████████| 5/5 [00:00<00:00, 42.00it/s]"
     ]
    },
    {
     "name": "stdout",
     "output_type": "stream",
     "text": [
      "252|0:00:42|nc:1.3e+06|a0:0.68-0.74|swp:0.24-1.00|n:15100<5000|t!2(+nan,+0.00)|q:1.00|0.03ms/ev\n"
     ]
    },
    {
     "name": "stderr",
     "output_type": "stream",
     "text": [
      "\n",
      "100%|████████████████████████████████████████████| 5/5 [00:00<00:00, 40.87it/s]"
     ]
    },
    {
     "name": "stdout",
     "output_type": "stream",
     "text": [
      "253|0:00:43|nc:1.3e+06|a0:0.68-0.74|swp:0.24-1.00|n:15200<5000|t!2(+nan,+0.00)|q:1.00|0.03ms/ev\n"
     ]
    },
    {
     "name": "stderr",
     "output_type": "stream",
     "text": [
      "\n",
      "100%|████████████████████████████████████████████| 5/5 [00:00<00:00, 42.65it/s]"
     ]
    },
    {
     "name": "stdout",
     "output_type": "stream",
     "text": [
      "254|0:00:43|nc:1.3e+06|a0:0.68-0.74|swp:0.24-1.00|n:15300<5000|t!2(+nan,+0.00)|q:1.00|0.03ms/ev\n"
     ]
    },
    {
     "name": "stderr",
     "output_type": "stream",
     "text": [
      "\n",
      "100%|████████████████████████████████████████████| 5/5 [00:00<00:00, 37.41it/s]\n"
     ]
    },
    {
     "name": "stdout",
     "output_type": "stream",
     "text": [
      "255|0:00:43|nc:1.3e+06|a0:0.68-0.74|swp:0.24-1.00|n:15400<5000|t!2(+nan,+0.00)|q:1.00|0.03ms/ev\n"
     ]
    },
    {
     "name": "stderr",
     "output_type": "stream",
     "text": [
      "100%|████████████████████████████████████████████| 5/5 [00:00<00:00, 40.81it/s]\n"
     ]
    },
    {
     "name": "stdout",
     "output_type": "stream",
     "text": [
      "256|0:00:43|nc:1.3e+06|a0:0.68-0.74|swp:0.24-1.00|n:15500<5000|t!2(+nan,+0.00)|q:1.00|0.03ms/ev\n"
     ]
    },
    {
     "name": "stderr",
     "output_type": "stream",
     "text": [
      "100%|████████████████████████████████████████████| 5/5 [00:00<00:00, 42.09it/s]"
     ]
    },
    {
     "name": "stdout",
     "output_type": "stream",
     "text": [
      "257|0:00:43|nc:1.3e+06|a0:0.68-0.74|swp:0.24-1.00|n:15600<5000|t!2(+nan,+0.00)|q:1.00|0.03ms/ev\n"
     ]
    },
    {
     "name": "stderr",
     "output_type": "stream",
     "text": [
      "\n",
      "100%|████████████████████████████████████████████| 5/5 [00:00<00:00, 42.25it/s]\n"
     ]
    },
    {
     "name": "stdout",
     "output_type": "stream",
     "text": [
      "258|0:00:43|nc:1.3e+06|a0:0.68-0.74|swp:0.24-1.00|n:15700<5000|t!2(+nan,+0.00)|q:1.00|0.03ms/ev\n"
     ]
    },
    {
     "name": "stderr",
     "output_type": "stream",
     "text": [
      "100%|████████████████████████████████████████████| 5/5 [00:00<00:00, 43.95it/s]"
     ]
    },
    {
     "name": "stdout",
     "output_type": "stream",
     "text": [
      "259|0:00:44|nc:1.3e+06|a0:0.68-0.74|swp:0.24-1.00|n:15800<5000|t!2(+nan,+0.00)|q:1.00|0.03ms/ev\n"
     ]
    },
    {
     "name": "stderr",
     "output_type": "stream",
     "text": [
      "\n",
      "100%|████████████████████████████████████████████| 5/5 [00:00<00:00, 38.85it/s]\n"
     ]
    },
    {
     "name": "stdout",
     "output_type": "stream",
     "text": [
      "260|0:00:44|nc:1.3e+06|a0:0.68-0.74|swp:0.24-1.00|n:15900<5000|t!2(+nan,+0.00)|q:1.00|0.04ms/ev\n"
     ]
    },
    {
     "name": "stderr",
     "output_type": "stream",
     "text": [
      "100%|████████████████████████████████████████████| 5/5 [00:00<00:00, 37.09it/s]\n"
     ]
    },
    {
     "name": "stdout",
     "output_type": "stream",
     "text": [
      "261|0:00:44|nc:1.3e+06|a0:0.68-0.74|swp:0.24-1.00|n:16000<5000|t!2(+nan,+0.00)|q:1.00|0.04ms/ev\n"
     ]
    },
    {
     "name": "stderr",
     "output_type": "stream",
     "text": [
      "100%|████████████████████████████████████████████| 5/5 [00:00<00:00, 32.87it/s]"
     ]
    },
    {
     "name": "stdout",
     "output_type": "stream",
     "text": [
      "262|0:00:44|nc:1.3e+06|a0:0.68-0.74|swp:0.24-1.00|n:16100<5000|t!2(+nan,+0.00)|q:1.00|0.04ms/ev\n"
     ]
    },
    {
     "name": "stderr",
     "output_type": "stream",
     "text": [
      "\n",
      "100%|████████████████████████████████████████████| 5/5 [00:00<00:00, 29.08it/s]\n"
     ]
    },
    {
     "name": "stdout",
     "output_type": "stream",
     "text": [
      "263|0:00:44|nc:1.3e+06|a0:0.68-0.74|swp:0.24-1.00|n:16200<5000|t!2(+nan,+0.00)|q:1.00|0.04ms/ev\n"
     ]
    },
    {
     "name": "stderr",
     "output_type": "stream",
     "text": [
      "100%|████████████████████████████████████████████| 5/5 [00:00<00:00, 29.33it/s]"
     ]
    },
    {
     "name": "stdout",
     "output_type": "stream",
     "text": [
      "264|0:00:45|nc:1.3e+06|a0:0.68-0.74|swp:0.24-1.00|n:16300<5000|t!2(+nan,+0.00)|q:1.00|0.05ms/ev\n"
     ]
    },
    {
     "name": "stderr",
     "output_type": "stream",
     "text": [
      "\n",
      "100%|████████████████████████████████████████████| 5/5 [00:00<00:00, 38.48it/s]\n"
     ]
    },
    {
     "name": "stdout",
     "output_type": "stream",
     "text": [
      "265|0:00:45|nc:1.3e+06|a0:0.68-0.74|swp:0.24-1.00|n:16400<5000|t!2(+nan,+0.00)|q:1.00|0.04ms/ev\n"
     ]
    },
    {
     "name": "stderr",
     "output_type": "stream",
     "text": [
      "100%|████████████████████████████████████████████| 5/5 [00:00<00:00, 38.66it/s]\n"
     ]
    },
    {
     "name": "stdout",
     "output_type": "stream",
     "text": [
      "266|0:00:45|nc:1.3e+06|a0:0.68-0.74|swp:0.24-1.00|n:16500<5000|t!2(+nan,+0.00)|q:1.00|0.04ms/ev\n"
     ]
    },
    {
     "name": "stderr",
     "output_type": "stream",
     "text": [
      "100%|████████████████████████████████████████████| 5/5 [00:00<00:00, 40.59it/s]\n"
     ]
    },
    {
     "name": "stdout",
     "output_type": "stream",
     "text": [
      "267|0:00:45|nc:1.3e+06|a0:0.68-0.74|swp:0.24-1.00|n:16600<5000|t!2(+nan,+0.00)|q:1.00|0.04ms/ev\n"
     ]
    },
    {
     "name": "stderr",
     "output_type": "stream",
     "text": [
      "100%|████████████████████████████████████████████| 5/5 [00:00<00:00, 40.55it/s]\n"
     ]
    },
    {
     "name": "stdout",
     "output_type": "stream",
     "text": [
      "268|0:00:45|nc:1.3e+06|a0:0.68-0.74|swp:0.24-1.00|n:16700<5000|t!2(+nan,+0.00)|q:1.00|0.04ms/ev\n"
     ]
    },
    {
     "name": "stderr",
     "output_type": "stream",
     "text": [
      "100%|████████████████████████████████████████████| 5/5 [00:00<00:00, 38.18it/s]\n"
     ]
    },
    {
     "name": "stdout",
     "output_type": "stream",
     "text": [
      "269|0:00:46|nc:1.3e+06|a0:0.68-0.74|swp:0.24-1.00|n:16800<5000|t!2(+nan,+0.00)|q:1.00|0.04ms/ev\n"
     ]
    },
    {
     "name": "stderr",
     "output_type": "stream",
     "text": [
      "100%|████████████████████████████████████████████| 5/5 [00:00<00:00, 39.37it/s]\n"
     ]
    },
    {
     "name": "stdout",
     "output_type": "stream",
     "text": [
      "270|0:00:46|nc:1.4e+06|a0:0.68-0.74|swp:0.24-1.00|n:16900<5000|t!2(+nan,+0.00)|q:1.00|0.04ms/ev\n"
     ]
    },
    {
     "name": "stderr",
     "output_type": "stream",
     "text": [
      "100%|████████████████████████████████████████████| 5/5 [00:00<00:00, 44.18it/s]\n"
     ]
    },
    {
     "name": "stdout",
     "output_type": "stream",
     "text": [
      "271|0:00:46|nc:1.4e+06|a0:0.68-0.74|swp:0.24-1.00|n:17000<5000|t!2(+nan,+0.00)|q:1.00|0.04ms/ev\n"
     ]
    },
    {
     "name": "stderr",
     "output_type": "stream",
     "text": [
      "100%|████████████████████████████████████████████| 5/5 [00:00<00:00, 41.17it/s]\n"
     ]
    },
    {
     "name": "stdout",
     "output_type": "stream",
     "text": [
      "272|0:00:46|nc:1.4e+06|a0:0.68-0.74|swp:0.24-1.00|n:17100<5000|t!2(+nan,+0.00)|q:1.00|0.04ms/ev\n"
     ]
    },
    {
     "name": "stderr",
     "output_type": "stream",
     "text": [
      "100%|████████████████████████████████████████████| 5/5 [00:00<00:00, 35.47it/s]"
     ]
    },
    {
     "name": "stdout",
     "output_type": "stream",
     "text": [
      "273|0:00:46|nc:1.4e+06|a0:0.68-0.74|swp:0.24-1.00|n:17200<5000|t!2(+nan,+0.00)|q:1.00|0.04ms/ev\n"
     ]
    },
    {
     "name": "stderr",
     "output_type": "stream",
     "text": [
      "\n",
      "100%|████████████████████████████████████████████| 5/5 [00:00<00:00, 43.95it/s]\n"
     ]
    },
    {
     "name": "stdout",
     "output_type": "stream",
     "text": [
      "274|0:00:47|nc:1.4e+06|a0:0.68-0.74|swp:0.24-1.00|n:17300<5000|t!2(+nan,+0.00)|q:1.00|0.04ms/ev\n"
     ]
    },
    {
     "name": "stderr",
     "output_type": "stream",
     "text": [
      "100%|████████████████████████████████████████████| 5/5 [00:00<00:00, 41.35it/s]\n"
     ]
    },
    {
     "name": "stdout",
     "output_type": "stream",
     "text": [
      "275|0:00:47|nc:1.4e+06|a0:0.68-0.74|swp:0.24-1.00|n:17400<5000|t!2(+nan,+0.00)|q:1.00|0.04ms/ev\n"
     ]
    },
    {
     "name": "stderr",
     "output_type": "stream",
     "text": [
      "100%|████████████████████████████████████████████| 5/5 [00:00<00:00, 42.45it/s]\n"
     ]
    },
    {
     "name": "stdout",
     "output_type": "stream",
     "text": [
      "276|0:00:47|nc:1.4e+06|a0:0.68-0.74|swp:0.24-1.00|n:17500<5000|t!2(+nan,+0.00)|q:1.00|0.03ms/ev\n"
     ]
    },
    {
     "name": "stderr",
     "output_type": "stream",
     "text": [
      "100%|████████████████████████████████████████████| 5/5 [00:00<00:00, 43.53it/s]"
     ]
    },
    {
     "name": "stdout",
     "output_type": "stream",
     "text": [
      "277|0:00:47|nc:1.4e+06|a0:0.68-0.74|swp:0.24-1.00|n:17600<5000|t!2(+nan,+0.00)|q:1.00|0.03ms/ev\n"
     ]
    },
    {
     "name": "stderr",
     "output_type": "stream",
     "text": [
      "\n",
      "100%|████████████████████████████████████████████| 5/5 [00:00<00:00, 43.59it/s]\n"
     ]
    },
    {
     "name": "stdout",
     "output_type": "stream",
     "text": [
      "278|0:00:47|nc:1.4e+06|a0:0.68-0.74|swp:0.24-1.00|n:17700<5000|t!2(+nan,+0.00)|q:1.00|0.03ms/ev\n"
     ]
    },
    {
     "name": "stderr",
     "output_type": "stream",
     "text": [
      "100%|████████████████████████████████████████████| 5/5 [00:00<00:00, 42.31it/s]\n"
     ]
    },
    {
     "name": "stdout",
     "output_type": "stream",
     "text": [
      "279|0:00:47|nc:1.4e+06|a0:0.68-0.74|swp:0.24-1.00|n:17800<5000|t!2(+nan,+0.00)|q:1.00|0.03ms/ev\n"
     ]
    },
    {
     "name": "stderr",
     "output_type": "stream",
     "text": [
      "100%|████████████████████████████████████████████| 5/5 [00:00<00:00, 41.72it/s]\n"
     ]
    },
    {
     "name": "stdout",
     "output_type": "stream",
     "text": [
      "280|0:00:48|nc:1.4e+06|a0:0.68-0.74|swp:0.24-1.00|n:17900<5000|t!2(+nan,+0.00)|q:1.00|0.03ms/ev\n"
     ]
    },
    {
     "name": "stderr",
     "output_type": "stream",
     "text": [
      "100%|████████████████████████████████████████████| 5/5 [00:00<00:00, 40.13it/s]\n"
     ]
    },
    {
     "name": "stdout",
     "output_type": "stream",
     "text": [
      "281|0:00:48|nc:1.4e+06|a0:0.68-0.74|swp:0.24-1.00|n:18000<5000|t!2(+nan,+0.00)|q:1.00|0.04ms/ev\n"
     ]
    },
    {
     "name": "stderr",
     "output_type": "stream",
     "text": [
      "100%|████████████████████████████████████████████| 5/5 [00:00<00:00, 45.79it/s]"
     ]
    },
    {
     "name": "stdout",
     "output_type": "stream",
     "text": [
      "282|0:00:48|nc:1.4e+06|a0:0.68-0.74|swp:0.24-1.00|n:18100<5000|t!2(+nan,+0.00)|q:1.00|0.03ms/ev\n"
     ]
    },
    {
     "name": "stderr",
     "output_type": "stream",
     "text": [
      "\n",
      "100%|████████████████████████████████████████████| 5/5 [00:00<00:00, 41.38it/s]\n"
     ]
    },
    {
     "name": "stdout",
     "output_type": "stream",
     "text": [
      "283|0:00:48|nc:1.4e+06|a0:0.68-0.74|swp:0.24-1.00|n:18200<5000|t!2(+nan,+0.00)|q:1.00|0.03ms/ev\n"
     ]
    },
    {
     "name": "stderr",
     "output_type": "stream",
     "text": [
      "100%|████████████████████████████████████████████| 5/5 [00:00<00:00, 37.40it/s]\n"
     ]
    },
    {
     "name": "stdout",
     "output_type": "stream",
     "text": [
      "284|0:00:48|nc:1.4e+06|a0:0.68-0.74|swp:0.24-1.00|n:18300<5000|t!2(+nan,+0.00)|q:1.00|0.04ms/ev\n"
     ]
    },
    {
     "name": "stderr",
     "output_type": "stream",
     "text": [
      "100%|████████████████████████████████████████████| 5/5 [00:00<00:00, 41.03it/s]\n"
     ]
    },
    {
     "name": "stdout",
     "output_type": "stream",
     "text": [
      "285|0:00:48|nc:1.4e+06|a0:0.68-0.74|swp:0.24-1.00|n:18400<5000|t!2(+nan,+0.00)|q:1.00|0.04ms/ev\n"
     ]
    },
    {
     "name": "stderr",
     "output_type": "stream",
     "text": [
      "100%|████████████████████████████████████████████| 5/5 [00:00<00:00, 36.74it/s]\n"
     ]
    },
    {
     "name": "stdout",
     "output_type": "stream",
     "text": [
      "286|0:00:49|nc:1.4e+06|a0:0.68-0.74|swp:0.24-1.00|n:18500<5000|t!2(+nan,+0.00)|q:1.00|0.04ms/ev\n"
     ]
    },
    {
     "name": "stderr",
     "output_type": "stream",
     "text": [
      "100%|████████████████████████████████████████████| 5/5 [00:00<00:00, 35.67it/s]"
     ]
    },
    {
     "name": "stdout",
     "output_type": "stream",
     "text": [
      "287|0:00:49|nc:1.4e+06|a0:0.68-0.73|swp:0.24-1.00|n:18600<5000|t!2(+nan,+0.00)|q:1.00|0.04ms/ev\n"
     ]
    },
    {
     "name": "stderr",
     "output_type": "stream",
     "text": [
      "\n",
      "100%|████████████████████████████████████████████| 5/5 [00:00<00:00, 39.25it/s]\n"
     ]
    },
    {
     "name": "stdout",
     "output_type": "stream",
     "text": [
      "288|0:00:49|nc:1.4e+06|a0:0.68-0.73|swp:0.24-1.00|n:18700<5000|t!2(+nan,+0.00)|q:1.00|0.04ms/ev\n"
     ]
    },
    {
     "name": "stderr",
     "output_type": "stream",
     "text": [
      "100%|████████████████████████████████████████████| 5/5 [00:00<00:00, 29.78it/s]"
     ]
    },
    {
     "name": "stdout",
     "output_type": "stream",
     "text": [
      "289|0:00:49|nc:1.4e+06|a0:0.68-0.73|swp:0.24-1.00|n:18800<5000|t!2(+nan,+0.00)|q:1.00|0.04ms/ev\n"
     ]
    },
    {
     "name": "stderr",
     "output_type": "stream",
     "text": [
      "\n",
      "100%|████████████████████████████████████████████| 5/5 [00:00<00:00, 27.85it/s]\n"
     ]
    },
    {
     "name": "stdout",
     "output_type": "stream",
     "text": [
      "290|0:00:49|nc:1.4e+06|a0:0.68-0.73|swp:0.24-1.00|n:18900<5000|t!2(+nan,+0.00)|q:1.00|0.04ms/ev\n"
     ]
    },
    {
     "name": "stderr",
     "output_type": "stream",
     "text": [
      "100%|████████████████████████████████████████████| 5/5 [00:00<00:00, 25.73it/s]\n"
     ]
    },
    {
     "name": "stdout",
     "output_type": "stream",
     "text": [
      "291|0:00:50|nc:1.5e+06|a0:0.68-0.73|swp:0.24-1.00|n:19000<5000|t!2(+nan,+0.00)|q:1.00|0.05ms/ev\n"
     ]
    },
    {
     "name": "stderr",
     "output_type": "stream",
     "text": [
      "100%|████████████████████████████████████████████| 5/5 [00:00<00:00, 28.30it/s]\n"
     ]
    },
    {
     "name": "stdout",
     "output_type": "stream",
     "text": [
      "292|0:00:50|nc:1.5e+06|a0:0.68-0.73|swp:0.24-1.00|n:19100<5000|t!2(+nan,+0.00)|q:1.00|0.05ms/ev\n"
     ]
    },
    {
     "name": "stderr",
     "output_type": "stream",
     "text": [
      "100%|████████████████████████████████████████████| 5/5 [00:00<00:00, 27.47it/s]\n"
     ]
    },
    {
     "name": "stdout",
     "output_type": "stream",
     "text": [
      "293|0:00:50|nc:1.5e+06|a0:0.68-0.73|swp:0.24-1.00|n:19200<5000|t!2(+nan,+0.00)|q:1.00|0.05ms/ev\n"
     ]
    },
    {
     "name": "stderr",
     "output_type": "stream",
     "text": [
      "100%|████████████████████████████████████████████| 5/5 [00:00<00:00, 22.30it/s]"
     ]
    },
    {
     "name": "stdout",
     "output_type": "stream",
     "text": [
      "294|0:00:51|nc:1.5e+06|a0:0.68-0.73|swp:0.24-1.00|n:19300<5000|t!2(+nan,+0.00)|q:1.00|0.05ms/ev\n"
     ]
    },
    {
     "name": "stderr",
     "output_type": "stream",
     "text": [
      "\n",
      "100%|████████████████████████████████████████████| 5/5 [00:00<00:00, 35.80it/s]\n"
     ]
    },
    {
     "name": "stdout",
     "output_type": "stream",
     "text": [
      "295|0:00:51|nc:1.5e+06|a0:0.68-0.73|swp:0.24-1.00|n:19400<5000|t!2(+nan,+0.00)|q:1.00|0.05ms/ev\n"
     ]
    },
    {
     "name": "stderr",
     "output_type": "stream",
     "text": [
      "100%|████████████████████████████████████████████| 5/5 [00:00<00:00, 41.30it/s]\n"
     ]
    },
    {
     "name": "stdout",
     "output_type": "stream",
     "text": [
      "296|0:00:51|nc:1.5e+06|a0:0.68-0.73|swp:0.24-1.00|n:19500<5000|t!2(+nan,+0.00)|q:1.00|0.04ms/ev\n"
     ]
    },
    {
     "name": "stderr",
     "output_type": "stream",
     "text": [
      "100%|████████████████████████████████████████████| 5/5 [00:00<00:00, 41.92it/s]\n"
     ]
    },
    {
     "name": "stdout",
     "output_type": "stream",
     "text": [
      "297|0:00:51|nc:1.5e+06|a0:0.68-0.73|swp:0.24-1.00|n:19600<5000|t!2(+nan,+0.00)|q:1.00|0.04ms/ev\n"
     ]
    },
    {
     "name": "stderr",
     "output_type": "stream",
     "text": [
      "100%|████████████████████████████████████████████| 5/5 [00:00<00:00, 39.22it/s]\n"
     ]
    },
    {
     "name": "stdout",
     "output_type": "stream",
     "text": [
      "298|0:00:51|nc:1.5e+06|a0:0.68-0.73|swp:0.24-1.00|n:19700<5000|t!2(+nan,+0.00)|q:1.00|0.04ms/ev\n"
     ]
    },
    {
     "name": "stderr",
     "output_type": "stream",
     "text": [
      "100%|████████████████████████████████████████████| 5/5 [00:00<00:00, 42.16it/s]\n"
     ]
    },
    {
     "name": "stdout",
     "output_type": "stream",
     "text": [
      "299|0:00:51|nc:1.5e+06|a0:0.68-0.73|swp:0.24-1.00|n:19800<5000|t!2(+nan,+0.00)|q:1.00|0.04ms/ev\n"
     ]
    },
    {
     "name": "stderr",
     "output_type": "stream",
     "text": [
      "100%|████████████████████████████████████████████| 5/5 [00:00<00:00, 41.29it/s]\n"
     ]
    },
    {
     "name": "stdout",
     "output_type": "stream",
     "text": [
      "300|0:00:52|nc:1.5e+06|a0:0.68-0.73|swp:0.24-1.00|n:19900<5000|t!2(+nan,+0.00)|q:1.00|0.04ms/ev\n"
     ]
    },
    {
     "name": "stderr",
     "output_type": "stream",
     "text": [
      "100%|████████████████████████████████████████████| 5/5 [00:00<00:00, 42.26it/s]\n"
     ]
    },
    {
     "name": "stdout",
     "output_type": "stream",
     "text": [
      "301|0:00:52|nc:1.5e+06|a0:0.68-0.73|swp:0.24-1.00|n:20000<5000|t!2(+nan,+0.00)|q:1.00|0.04ms/ev\n"
     ]
    },
    {
     "name": "stderr",
     "output_type": "stream",
     "text": [
      "100%|████████████████████████████████████████████| 5/5 [00:00<00:00, 42.30it/s]\n"
     ]
    },
    {
     "name": "stdout",
     "output_type": "stream",
     "text": [
      "302|0:00:52|nc:1.5e+06|a0:0.68-0.73|swp:0.24-1.00|n:20100<5000|t!2(+nan,+0.00)|q:1.00|0.04ms/ev\n"
     ]
    },
    {
     "name": "stderr",
     "output_type": "stream",
     "text": [
      "100%|████████████████████████████████████████████| 5/5 [00:00<00:00, 33.60it/s]"
     ]
    },
    {
     "name": "stdout",
     "output_type": "stream",
     "text": [
      "303|0:00:52|nc:1.5e+06|a0:0.68-0.73|swp:0.24-1.00|n:20200<5000|t=2(+0.00,+0.00)|q:1.00|0.04ms/ev\n"
     ]
    },
    {
     "name": "stderr",
     "output_type": "stream",
     "text": [
      "\n",
      "14:29 bilby INFO    : Finished sampling\n",
      "14:29 bilby INFO    : Writing checkpoint and diagnostics\n",
      "14:29 bilby INFO    : Finished writing checkpoint\n",
      "14:29 bilby INFO    : Starting to close worker pool.\n",
      "14:29 bilby INFO    : Finished closing worker pool.\n",
      "14:29 bilby INFO    : Sampling time: 0:00:52.661454\n",
      "14:29 bilby INFO    : Summary of results:\n",
      "nsamples: 20200\n",
      "ln_noise_evidence:    nan\n",
      "ln_evidence: -285.512 +/-  6.918\n",
      "ln_bayes_factor:    nan +/-  6.918\n",
      "\n"
     ]
    },
    {
     "data": {
      "image/png": "[encoded data removed]",
      "text/plain": [
       "<Figure size 550x550 with 4 Axes>"
      ]
     },
     "execution_count": 6,
     "metadata": {},
     "output_type": "execute_result"
    }
   ],
   "source": [
    "result = bilby.run_sampler(\n",
    "    likelihood=likelihood,\n",
    "    priors=priors,\n",
    "    sampler='ptemcee',\n",
    "    nlive=1000,\n",
    "    outdir=outdir,\n",
    "    label=label,\n",
    "    npool=4\n",
    ")\n",
    "result.plot_corner()"
   ]
  },
  {
   "cell_type": "code",
   "execution_count": 13,
   "id": "49b93612-00d8-413c-8e83-88bedd8f7826",
   "metadata": {},
   "outputs": [
    {
     "data": {
      "text/plain": [
       "(2, 20200)"
      ]
     },
     "execution_count": 13,
     "metadata": {},
     "output_type": "execute_result"
    }
   ],
   "source": [
    "np.array(list(result.posterior[var] for var in priors.keys())).shape"
   ]
  },
  {
   "cell_type": "markdown",
   "id": "a5239cee-95a3-4ff3-8d0e-ca1036f8c947",
   "metadata": {},
   "source": [
    "# More specific attempts"
   ]
  },
  {
   "cell_type": "markdown",
   "id": "b49af81e-7e10-4899-a1e9-0e59f808b9d6",
   "metadata": {},
   "source": [
    "## Defining and Sampling Dirichlet distribution"
   ]
  },
  {
   "cell_type": "code",
   "execution_count": 16,
   "id": "bff0811e-ee51-4fb4-b8ab-397eb7b4f692",
   "metadata": {},
   "outputs": [
    {
     "name": "stdout",
     "output_type": "stream",
     "text": [
      "{'dirichlet_0': array([0.14436038, 0.15869231, 0.24360939, 0.21516962, 0.78823242,\n",
      "       0.52367504, 0.02913815, 0.15468477, 0.3040013 , 0.44340726]), 'dirichlet_1': array([0.20934329, 0.03511534, 0.34385985, 0.12775221, 0.06551702,\n",
      "       0.20427531, 0.35170583, 0.18276601, 0.33882757, 0.21480714]), 'dirichlet_2': array([0.215135  , 0.24329572, 0.32814017, 0.4411318 , 0.00304096,\n",
      "       0.21986122, 0.02193083, 0.64772291, 0.2191407 , 0.32134293])}\n",
      "dict_values([array([0.14436038, 0.15869231, 0.24360939, 0.21516962, 0.78823242,\n",
      "       0.52367504, 0.02913815, 0.15468477, 0.3040013 , 0.44340726]), array([0.20934329, 0.03511534, 0.34385985, 0.12775221, 0.06551702,\n",
      "       0.20427531, 0.35170583, 0.18276601, 0.33882757, 0.21480714]), array([0.215135  , 0.24329572, 0.32814017, 0.4411318 , 0.00304096,\n",
      "       0.21986122, 0.02193083, 0.64772291, 0.2191407 , 0.32134293])])\n",
      "(3, 10)\n",
      "[[0.14436038 0.15869231 0.24360939 0.21516962 0.78823242 0.52367504\n",
      "  0.02913815 0.15468477 0.3040013  0.44340726]\n",
      " [0.20934329 0.03511534 0.34385985 0.12775221 0.06551702 0.20427531\n",
      "  0.35170583 0.18276601 0.33882757 0.21480714]\n",
      " [0.215135   0.24329572 0.32814017 0.4411318  0.00304096 0.21986122\n",
      "  0.02193083 0.64772291 0.2191407  0.32134293]]\n",
      "[[0.14436038 0.20934329 0.215135  ]\n",
      " [0.15869231 0.03511534 0.24329572]\n",
      " [0.24360939 0.34385985 0.32814017]\n",
      " [0.21516962 0.12775221 0.4411318 ]\n",
      " [0.78823242 0.06551702 0.00304096]\n",
      " [0.52367504 0.20427531 0.21986122]\n",
      " [0.02913815 0.35170583 0.02193083]\n",
      " [0.15468477 0.18276601 0.64772291]\n",
      " [0.3040013  0.33882757 0.2191407 ]\n",
      " [0.44340726 0.21480714 0.32134293]]\n",
      "[[0.14436038 0.20934329 0.215135  ]\n",
      " [0.15869231 0.03511534 0.24329572]\n",
      " [0.24360939 0.34385985 0.32814017]\n",
      " [0.21516962 0.12775221 0.4411318 ]\n",
      " [0.78823242 0.06551702 0.00304096]\n",
      " [0.52367504 0.20427531 0.21986122]\n",
      " [0.02913815 0.35170583 0.02193083]\n",
      " [0.15468477 0.18276601 0.64772291]\n",
      " [0.3040013  0.33882757 0.2191407 ]\n",
      " [0.44340726 0.21480714 0.32134293]]\n",
      "(10, 3)\n",
      "[0.43116133 0.56289663 0.08439059 0.21594636 0.14320959 0.05218843\n",
      " 0.59722518 0.0148263  0.13803044 0.02044266]\n",
      "[[0.14436038 0.20934329 0.215135   0.43116133]\n",
      " [0.15869231 0.03511534 0.24329572 0.56289663]\n",
      " [0.24360939 0.34385985 0.32814017 0.08439059]\n",
      " [0.21516962 0.12775221 0.4411318  0.21594636]\n",
      " [0.78823242 0.06551702 0.00304096 0.14320959]\n",
      " [0.52367504 0.20427531 0.21986122 0.05218843]\n",
      " [0.02913815 0.35170583 0.02193083 0.59722518]\n",
      " [0.15468477 0.18276601 0.64772291 0.0148263 ]\n",
      " [0.3040013  0.33882757 0.2191407  0.13803044]\n",
      " [0.44340726 0.21480714 0.32134293 0.02044266]]\n",
      "[1. 1. 1. 1. 1. 1. 1. 1. 1. 1.]\n",
      "[0.30049706 0.20739696 0.26607422 0.22603175]\n",
      "[0. 0. 0. 0. 0. 0. 0. 0. 0. 0.]\n",
      "\n",
      "For 4 dimensions, we return 3 values since we have to satisfy the simplex condition\n"
     ]
    }
   ],
   "source": [
    "import bilby\n",
    "import numpy as np\n",
    "\n",
    "dirichlet_prior = bilby.core.prior.DirichletPriorDict(n_dim=4)\n",
    "samples = dirichlet_prior.sample(size=10)\n",
    "print(samples)\n",
    "print(samples.values())\n",
    "\n",
    "simpler = np.array(list(samples.values()))\n",
    "print(simpler.shape)\n",
    "print(simpler)\n",
    "print(np.transpose(simpler))\n",
    "simpler = np.transpose(simpler) # np.array([simpler[:, n] for n in range(simpler.shape[1])])\n",
    "print(simpler)\n",
    "print(simpler.shape)\n",
    "print(1 - np.sum(simpler, axis=1))\n",
    "simpler = np.append(simpler, np.array([1 - np.sum(simpler, axis=1)]).reshape(-1, 1), axis=1)\n",
    "print(simpler)\n",
    "print(np.sum(simpler, axis=1))\n",
    "print(np.mean(simpler, axis=0))\n",
    "print(np.floor(np.mean(simpler, axis=1)))\n",
    "print()\n",
    "\n",
    "print('For 4 dimensions, we return 3 values since we have to satisfy the simplex condition')"
   ]
  },
  {
   "cell_type": "markdown",
   "id": "854e6a8f-9c80-4385-865f-f250bc7ff312",
   "metadata": {},
   "source": [
    "## Defining hyperparameters to determine the shape parameters for the Dirichlet"
   ]
  },
  {
   "cell_type": "code",
   "execution_count": 17,
   "id": "8ca87bb5-2b11-4065-919b-fc96f1017f95",
   "metadata": {},
   "outputs": [],
   "source": [
    "from pathlib import Path"
   ]
  },
  {
   "cell_type": "code",
   "execution_count": 18,
   "id": "6c89554f-d374-4223-a402-ec786906aa0e",
   "metadata": {},
   "outputs": [
    {
     "data": {
      "text/plain": [
       "PosixPath('/home/kevin/Documents/Research/Heinz/Taweret/testing')"
      ]
     },
     "execution_count": 18,
     "metadata": {},
     "output_type": "execute_result"
    }
   ],
   "source": [
    "Path.cwd()"
   ]
  },
  {
   "cell_type": "code",
   "execution_count": null,
   "id": "02350680-c4e7-4076-935b-775f1ad1ec5a",
   "metadata": {},
   "outputs": [],
   "source": []
  }
 ],
 "metadata": {
  "kernelspec": {
   "display_name": "Python 3 (ipykernel)",
   "language": "python",
   "name": "python3"
  },
  "language_info": {
   "codemirror_mode": {
    "name": "ipython",
    "version": 3
   },
   "file_extension": ".py",
   "mimetype": "text/x-python",
   "name": "python",
   "nbconvert_exporter": "python",
   "pygments_lexer": "ipython3",
   "version": "3.10.6"
  }
 },
 "nbformat": 4,
 "nbformat_minor": 5
}
