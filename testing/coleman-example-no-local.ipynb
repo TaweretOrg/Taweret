{
 "cells": [
  {
   "cell_type": "code",
   "execution_count": 5,
   "id": "31f147c0-7a36-452c-bcd6-8711ce473109",
   "metadata": {},
   "outputs": [],
   "source": [
    "import numpy as np\n",
    "import matplotlib.pyplot as plt\n",
    "import bilby\n",
    "\n",
    "%matplotlib inline"
   ]
  },
  {
   "cell_type": "code",
   "execution_count": 6,
   "id": "124e94cb-6916-42dd-b67d-df319514da48",
   "metadata": {},
   "outputs": [],
   "source": [
    "def true_model(x):\n",
    "    return (0.16 * x ** 2 - 4) * (0.04 * x ** 2 - 1)\n",
    "\n",
    "def partial_model(x, a, b):\n",
    "    return - a * x ** 2 + b"
   ]
  },
  {
   "cell_type": "code",
   "execution_count": 18,
   "id": "0c8ae8eb-a364-43da-adb2-9131459478f5",
   "metadata": {},
   "outputs": [],
   "source": [
    "x_data = np.linspace(-10, 10, 13)\n",
    "y_true = true_model(xs)\n",
    "\n",
    "y_data = np.array(\n",
    "    [\n",
    "        np.random.normal(loc=mean, scale=0.05, size=3)\n",
    "        for mean in y_true\n",
    "    ]\n",
    ")\n",
    "y_data = np.array([y_data[:,n] for n in range(3)])"
   ]
  },
  {
   "cell_type": "code",
   "execution_count": null,
   "id": "91ea5ce1-ab6d-4439-9645-fb2778586349",
   "metadata": {},
   "outputs": [],
   "source": [
    "class Inferenc:\n",
    "    def __init(self):\n",
    "        self.set_priors()\n",
    "    \n",
    "    def mix_likelihod"
   ]
  }
 ],
 "metadata": {
  "kernelspec": {
   "display_name": "Python 3 (ipykernel)",
   "language": "python",
   "name": "python3"
  },
  "language_info": {
   "codemirror_mode": {
    "name": "ipython",
    "version": 3
   },
   "file_extension": ".py",
   "mimetype": "text/x-python",
   "name": "python",
   "nbconvert_exporter": "python",
   "pygments_lexer": "ipython3",
   "version": "3.10.6"
  }
 },
 "nbformat": 4,
 "nbformat_minor": 5
}
