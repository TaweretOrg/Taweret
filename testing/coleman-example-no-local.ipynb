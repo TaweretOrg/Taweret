{
 "cells": [
  {
   "cell_type": "code",
   "execution_count": 5,
   "id": "31f147c0-7a36-452c-bcd6-8711ce473109",
   "metadata": {},
   "outputs": [],
   "source": [
    "import numpy as np\n",
    "import matplotlib.pyplot as plt\n",
    "import bilby\n",
    "\n",
    "%matplotlib inline"
   ]
  },
  {
   "cell_type": "code",
   "execution_count": 6,
   "id": "124e94cb-6916-42dd-b67d-df319514da48",
   "metadata": {},
   "outputs": [],
   "source": [
    "def true_model(x):\n",
    "    return (0.16 * x ** 2 - 4) * (0.04 * x ** 2 - 1)\n",
    "\n",
    "def partial_model(x, a, b):\n",
    "    return - a * x ** 2 + b"
   ]
  },
  {
   "cell_type": "code",
   "execution_count": 17,
   "id": "0c8ae8eb-a364-43da-adb2-9131459478f5",
   "metadata": {},
   "outputs": [
    {
     "name": "stdout",
     "output_type": "stream",
     "text": [
      "[[ 3.59803093e+01  3.59206082e+01  3.59803223e+01]\n",
      " [ 1.26641640e+01  1.27078822e+01  1.26336825e+01]\n",
      " [ 2.47296944e+00  2.46146495e+00  2.49364579e+00]\n",
      " [ 2.33160485e-02  6.64082938e-02  5.73008915e-02]\n",
      " [ 1.22517614e+00  1.33452969e+00  1.17693363e+00]\n",
      " [ 3.20065143e+00  3.15247707e+00  3.19966791e+00]\n",
      " [ 3.97297661e+00  4.01850558e+00  4.05694770e+00]\n",
      " [ 3.14347274e+00  3.12187844e+00  3.13802214e+00]\n",
      " [ 1.22448151e+00  1.27420654e+00  1.22633848e+00]\n",
      " [ 2.18964533e-02 -5.17233430e-02  6.04495640e-02]\n",
      " [ 2.48658712e+00  2.37272928e+00  2.46882448e+00]\n",
      " [ 1.26272823e+01  1.26450917e+01  1.26308332e+01]\n",
      " [ 3.60474288e+01  3.60117171e+01  3.59497056e+01]]\n",
      "[[ 3.59803093e+01  1.26641640e+01  2.47296944e+00  2.33160485e-02\n",
      "   1.22517614e+00  3.20065143e+00  3.97297661e+00  3.14347274e+00\n",
      "   1.22448151e+00  2.18964533e-02  2.48658712e+00  1.26272823e+01\n",
      "   3.60474288e+01]\n",
      " [ 3.59206082e+01  1.27078822e+01  2.46146495e+00  6.64082938e-02\n",
      "   1.33452969e+00  3.15247707e+00  4.01850558e+00  3.12187844e+00\n",
      "   1.27420654e+00 -5.17233430e-02  2.37272928e+00  1.26450917e+01\n",
      "   3.60117171e+01]\n",
      " [ 3.59803223e+01  1.26336825e+01  2.49364579e+00  5.73008915e-02\n",
      "   1.17693363e+00  3.19966791e+00  4.05694770e+00  3.13802214e+00\n",
      "   1.22633848e+00  6.04495640e-02  2.46882448e+00  1.26308332e+01\n",
      "   3.59497056e+01]]\n"
     ]
    }
   ],
   "source": [
    "x_data = np.linspace(-10, 10, 13)\n",
    "y_true = true_model(xs)\n",
    "\n",
    "y_data = np.array(\n",
    "    [\n",
    "        np.random.normal(loc=mean, scale=0.05, size=3)\n",
    "        for mean in y_true\n",
    "    ]\n",
    ")\n",
    "y_data = np.array([y_data[:,n] for n in range(3)])"
   ]
  },
  {
   "cell_type": "code",
   "execution_count": null,
   "id": "91ea5ce1-ab6d-4439-9645-fb2778586349",
   "metadata": {},
   "outputs": [],
   "source": []
  }
 ],
 "metadata": {
  "kernelspec": {
   "display_name": "Python 3 (ipykernel)",
   "language": "python",
   "name": "python3"
  },
  "language_info": {
   "codemirror_mode": {
    "name": "ipython",
    "version": 3
   },
   "file_extension": ".py",
   "mimetype": "text/x-python",
   "name": "python",
   "nbconvert_exporter": "python",
   "pygments_lexer": "ipython3",
   "version": "3.10.6"
  }
 },
 "nbformat": 4,
 "nbformat_minor": 5
}
